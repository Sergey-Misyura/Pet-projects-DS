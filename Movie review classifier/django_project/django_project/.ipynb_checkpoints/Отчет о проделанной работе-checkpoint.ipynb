{
 "cells": [
  {
   "cell_type": "markdown",
   "id": "02abaa34",
   "metadata": {},
   "source": [
    "0. Постановка задачи.\n",
    "1. Загрузка данных.\n",
    "2. Предобработка данных.\n",
    "3. Разработка модели предсказания.\n",
    "4. Разработка веб-сервиса.\n",
    "5. Размещение веб-сервиса на сервере.\n",
    "6. Итоги и предложения."
   ]
  }
 ],
 "metadata": {
  "kernelspec": {
   "display_name": "Python 3 (ipykernel)",
   "language": "python",
   "name": "python3"
  },
  "language_info": {
   "codemirror_mode": {
    "name": "ipython",
    "version": 3
   },
   "file_extension": ".py",
   "mimetype": "text/x-python",
   "name": "python",
   "nbconvert_exporter": "python",
   "pygments_lexer": "ipython3",
   "version": "3.9.7"
  }
 },
 "nbformat": 4,
 "nbformat_minor": 5
}
