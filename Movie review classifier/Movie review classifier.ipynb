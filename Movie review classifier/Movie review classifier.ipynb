{
  "cells": [
    {
      "cell_type": "markdown",
      "metadata": {
        "id": "s_MYSo_ok8zw"
      },
      "source": [
        "# Классификация отзывов IMDB"
      ]
    },
    {
      "cell_type": "markdown",
      "metadata": {
        "id": "cCOGK-mkr3Ll"
      },
      "source": [
        "## 1. Установки и импорт"
      ]
    },
    {
      "cell_type": "code",
      "source": [
        "!pip install tensorflow==2.9.0"
      ],
      "metadata": {
        "colab": {
          "base_uri": "https://localhost:8080/"
        },
        "id": "JSCcD65ukDZl",
        "outputId": "99e4c22e-4862-4cde-a1ae-8736a7b9f218"
      },
      "execution_count": null,
      "outputs": [
        {
          "output_type": "stream",
          "name": "stdout",
          "text": [
            "Looking in indexes: https://pypi.org/simple, https://us-python.pkg.dev/colab-wheels/public/simple/\n",
            "Collecting tensorflow==2.9.0\n",
            "  Downloading tensorflow-2.9.0-cp38-cp38-manylinux_2_17_x86_64.manylinux2014_x86_64.whl (511.7 MB)\n",
            "\u001b[2K     \u001b[90m━━━━━━━━━━━━━━━━━━━━━━━━━━━━━━━━━━━━━━━\u001b[0m \u001b[32m511.7/511.7 MB\u001b[0m \u001b[31m2.9 MB/s\u001b[0m eta \u001b[36m0:00:00\u001b[0m\n",
            "\u001b[?25hCollecting keras<2.10.0,>=2.9.0rc0\n",
            "  Downloading keras-2.9.0-py2.py3-none-any.whl (1.6 MB)\n",
            "\u001b[2K     \u001b[90m━━━━━━━━━━━━━━━━━━━━━━━━━━━━━━━━━━━━━━━━\u001b[0m \u001b[32m1.6/1.6 MB\u001b[0m \u001b[31m75.1 MB/s\u001b[0m eta \u001b[36m0:00:00\u001b[0m\n",
            "\u001b[?25hRequirement already satisfied: setuptools in /usr/local/lib/python3.8/dist-packages (from tensorflow==2.9.0) (57.4.0)\n",
            "Requirement already satisfied: typing-extensions>=3.6.6 in /usr/local/lib/python3.8/dist-packages (from tensorflow==2.9.0) (4.5.0)\n",
            "Requirement already satisfied: termcolor>=1.1.0 in /usr/local/lib/python3.8/dist-packages (from tensorflow==2.9.0) (2.2.0)\n",
            "Requirement already satisfied: numpy>=1.20 in /usr/local/lib/python3.8/dist-packages (from tensorflow==2.9.0) (1.22.4)\n",
            "Requirement already satisfied: grpcio<2.0,>=1.24.3 in /usr/local/lib/python3.8/dist-packages (from tensorflow==2.9.0) (1.51.3)\n",
            "Requirement already satisfied: opt-einsum>=2.3.2 in /usr/local/lib/python3.8/dist-packages (from tensorflow==2.9.0) (3.3.0)\n",
            "Collecting flatbuffers<2,>=1.12\n",
            "  Downloading flatbuffers-1.12-py2.py3-none-any.whl (15 kB)\n",
            "Collecting tensorboard<2.10,>=2.9\n",
            "  Downloading tensorboard-2.9.1-py3-none-any.whl (5.8 MB)\n",
            "\u001b[2K     \u001b[90m━━━━━━━━━━━━━━━━━━━━━━━━━━━━━━━━━━━━━━━━\u001b[0m \u001b[32m5.8/5.8 MB\u001b[0m \u001b[31m95.6 MB/s\u001b[0m eta \u001b[36m0:00:00\u001b[0m\n",
            "\u001b[?25hRequirement already satisfied: google-pasta>=0.1.1 in /usr/local/lib/python3.8/dist-packages (from tensorflow==2.9.0) (0.2.0)\n",
            "Collecting keras-preprocessing>=1.1.1\n",
            "  Downloading Keras_Preprocessing-1.1.2-py2.py3-none-any.whl (42 kB)\n",
            "\u001b[2K     \u001b[90m━━━━━━━━━━━━━━━━━━━━━━━━━━━━━━━━━━━━━━━━\u001b[0m \u001b[32m42.6/42.6 KB\u001b[0m \u001b[31m4.9 MB/s\u001b[0m eta \u001b[36m0:00:00\u001b[0m\n",
            "\u001b[?25hRequirement already satisfied: absl-py>=1.0.0 in /usr/local/lib/python3.8/dist-packages (from tensorflow==2.9.0) (1.4.0)\n",
            "Requirement already satisfied: libclang>=13.0.0 in /usr/local/lib/python3.8/dist-packages (from tensorflow==2.9.0) (15.0.6.1)\n",
            "Requirement already satisfied: gast<=0.4.0,>=0.2.1 in /usr/local/lib/python3.8/dist-packages (from tensorflow==2.9.0) (0.4.0)\n",
            "Collecting tensorflow-estimator<2.10.0,>=2.9.0rc0\n",
            "  Downloading tensorflow_estimator-2.9.0-py2.py3-none-any.whl (438 kB)\n",
            "\u001b[2K     \u001b[90m━━━━━━━━━━━━━━━━━━━━━━━━━━━━━━━━━━━━━━\u001b[0m \u001b[32m438.7/438.7 KB\u001b[0m \u001b[31m41.5 MB/s\u001b[0m eta \u001b[36m0:00:00\u001b[0m\n",
            "\u001b[?25hRequirement already satisfied: wrapt>=1.11.0 in /usr/local/lib/python3.8/dist-packages (from tensorflow==2.9.0) (1.15.0)\n",
            "Requirement already satisfied: tensorflow-io-gcs-filesystem>=0.23.1 in /usr/local/lib/python3.8/dist-packages (from tensorflow==2.9.0) (0.31.0)\n",
            "Requirement already satisfied: six>=1.12.0 in /usr/local/lib/python3.8/dist-packages (from tensorflow==2.9.0) (1.15.0)\n",
            "Requirement already satisfied: packaging in /usr/local/lib/python3.8/dist-packages (from tensorflow==2.9.0) (23.0)\n",
            "Requirement already satisfied: h5py>=2.9.0 in /usr/local/lib/python3.8/dist-packages (from tensorflow==2.9.0) (3.1.0)\n",
            "Requirement already satisfied: astunparse>=1.6.0 in /usr/local/lib/python3.8/dist-packages (from tensorflow==2.9.0) (1.6.3)\n",
            "Requirement already satisfied: protobuf>=3.9.2 in /usr/local/lib/python3.8/dist-packages (from tensorflow==2.9.0) (3.19.6)\n",
            "Requirement already satisfied: wheel<1.0,>=0.23.0 in /usr/local/lib/python3.8/dist-packages (from astunparse>=1.6.0->tensorflow==2.9.0) (0.38.4)\n",
            "Requirement already satisfied: markdown>=2.6.8 in /usr/local/lib/python3.8/dist-packages (from tensorboard<2.10,>=2.9->tensorflow==2.9.0) (3.4.1)\n",
            "Requirement already satisfied: requests<3,>=2.21.0 in /usr/local/lib/python3.8/dist-packages (from tensorboard<2.10,>=2.9->tensorflow==2.9.0) (2.25.1)\n",
            "Requirement already satisfied: google-auth-oauthlib<0.5,>=0.4.1 in /usr/local/lib/python3.8/dist-packages (from tensorboard<2.10,>=2.9->tensorflow==2.9.0) (0.4.6)\n",
            "Requirement already satisfied: tensorboard-plugin-wit>=1.6.0 in /usr/local/lib/python3.8/dist-packages (from tensorboard<2.10,>=2.9->tensorflow==2.9.0) (1.8.1)\n",
            "Requirement already satisfied: google-auth<3,>=1.6.3 in /usr/local/lib/python3.8/dist-packages (from tensorboard<2.10,>=2.9->tensorflow==2.9.0) (2.16.1)\n",
            "Requirement already satisfied: tensorboard-data-server<0.7.0,>=0.6.0 in /usr/local/lib/python3.8/dist-packages (from tensorboard<2.10,>=2.9->tensorflow==2.9.0) (0.6.1)\n",
            "Requirement already satisfied: werkzeug>=1.0.1 in /usr/local/lib/python3.8/dist-packages (from tensorboard<2.10,>=2.9->tensorflow==2.9.0) (2.2.3)\n",
            "Requirement already satisfied: cachetools<6.0,>=2.0.0 in /usr/local/lib/python3.8/dist-packages (from google-auth<3,>=1.6.3->tensorboard<2.10,>=2.9->tensorflow==2.9.0) (5.3.0)\n",
            "Requirement already satisfied: pyasn1-modules>=0.2.1 in /usr/local/lib/python3.8/dist-packages (from google-auth<3,>=1.6.3->tensorboard<2.10,>=2.9->tensorflow==2.9.0) (0.2.8)\n",
            "Requirement already satisfied: rsa<5,>=3.1.4 in /usr/local/lib/python3.8/dist-packages (from google-auth<3,>=1.6.3->tensorboard<2.10,>=2.9->tensorflow==2.9.0) (4.9)\n",
            "Requirement already satisfied: requests-oauthlib>=0.7.0 in /usr/local/lib/python3.8/dist-packages (from google-auth-oauthlib<0.5,>=0.4.1->tensorboard<2.10,>=2.9->tensorflow==2.9.0) (1.3.1)\n",
            "Requirement already satisfied: importlib-metadata>=4.4 in /usr/local/lib/python3.8/dist-packages (from markdown>=2.6.8->tensorboard<2.10,>=2.9->tensorflow==2.9.0) (6.0.0)\n",
            "Requirement already satisfied: urllib3<1.27,>=1.21.1 in /usr/local/lib/python3.8/dist-packages (from requests<3,>=2.21.0->tensorboard<2.10,>=2.9->tensorflow==2.9.0) (1.26.14)\n",
            "Requirement already satisfied: idna<3,>=2.5 in /usr/local/lib/python3.8/dist-packages (from requests<3,>=2.21.0->tensorboard<2.10,>=2.9->tensorflow==2.9.0) (2.10)\n",
            "Requirement already satisfied: chardet<5,>=3.0.2 in /usr/local/lib/python3.8/dist-packages (from requests<3,>=2.21.0->tensorboard<2.10,>=2.9->tensorflow==2.9.0) (4.0.0)\n",
            "Requirement already satisfied: certifi>=2017.4.17 in /usr/local/lib/python3.8/dist-packages (from requests<3,>=2.21.0->tensorboard<2.10,>=2.9->tensorflow==2.9.0) (2022.12.7)\n",
            "Requirement already satisfied: MarkupSafe>=2.1.1 in /usr/local/lib/python3.8/dist-packages (from werkzeug>=1.0.1->tensorboard<2.10,>=2.9->tensorflow==2.9.0) (2.1.2)\n",
            "Requirement already satisfied: zipp>=0.5 in /usr/local/lib/python3.8/dist-packages (from importlib-metadata>=4.4->markdown>=2.6.8->tensorboard<2.10,>=2.9->tensorflow==2.9.0) (3.15.0)\n",
            "Requirement already satisfied: pyasn1<0.5.0,>=0.4.6 in /usr/local/lib/python3.8/dist-packages (from pyasn1-modules>=0.2.1->google-auth<3,>=1.6.3->tensorboard<2.10,>=2.9->tensorflow==2.9.0) (0.4.8)\n",
            "Requirement already satisfied: oauthlib>=3.0.0 in /usr/local/lib/python3.8/dist-packages (from requests-oauthlib>=0.7.0->google-auth-oauthlib<0.5,>=0.4.1->tensorboard<2.10,>=2.9->tensorflow==2.9.0) (3.2.2)\n",
            "Installing collected packages: keras, flatbuffers, tensorflow-estimator, keras-preprocessing, tensorboard, tensorflow\n",
            "  Attempting uninstall: keras\n",
            "    Found existing installation: keras 2.11.0\n",
            "    Uninstalling keras-2.11.0:\n",
            "      Successfully uninstalled keras-2.11.0\n",
            "  Attempting uninstall: flatbuffers\n",
            "    Found existing installation: flatbuffers 23.1.21\n",
            "    Uninstalling flatbuffers-23.1.21:\n",
            "      Successfully uninstalled flatbuffers-23.1.21\n",
            "  Attempting uninstall: tensorflow-estimator\n",
            "    Found existing installation: tensorflow-estimator 2.11.0\n",
            "    Uninstalling tensorflow-estimator-2.11.0:\n",
            "      Successfully uninstalled tensorflow-estimator-2.11.0\n",
            "  Attempting uninstall: tensorboard\n",
            "    Found existing installation: tensorboard 2.11.2\n",
            "    Uninstalling tensorboard-2.11.2:\n",
            "      Successfully uninstalled tensorboard-2.11.2\n",
            "  Attempting uninstall: tensorflow\n",
            "    Found existing installation: tensorflow 2.11.0\n",
            "    Uninstalling tensorflow-2.11.0:\n",
            "      Successfully uninstalled tensorflow-2.11.0\n",
            "Successfully installed flatbuffers-1.12 keras-2.9.0 keras-preprocessing-1.1.2 tensorboard-2.9.1 tensorflow-2.9.0 tensorflow-estimator-2.9.0\n"
          ]
        }
      ]
    },
    {
      "cell_type": "code",
      "execution_count": null,
      "metadata": {
        "id": "3WS-dTrTr3Ll"
      },
      "outputs": [],
      "source": [
        "import tensorflow as tf\n",
        "from tensorflow.keras import layers\n",
        "from tensorflow.keras.layers import Embedding, Conv1D, AveragePooling1D, Bidirectional, LSTM, Dense, TextVectorization\n",
        "from keras.utils import np_utils\n",
        "from nltk.corpus import stopwords\n",
        "import nltk\n",
        "from collections import Counter\n",
        "import seaborn as sns\n",
        "import numpy as np\n",
        "import os\n",
        "import string\n",
        "import re\n",
        "import shutil  \n",
        "import matplotlib.pyplot as plt"
      ]
    },
    {
      "cell_type": "markdown",
      "metadata": {
        "id": "zoJVaGiwr3Ln"
      },
      "source": [
        "## 2. Загрузка данных IMDB movie review sentiment classification"
      ]
    },
    {
      "cell_type": "code",
      "execution_count": null,
      "metadata": {
        "colab": {
          "base_uri": "https://localhost:8080/"
        },
        "id": "c-N9_VLgr3Ln",
        "outputId": "31a1c545-6fcf-41ba-e2af-81f394152c7e"
      },
      "outputs": [
        {
          "output_type": "stream",
          "name": "stdout",
          "text": [
            "  % Total    % Received % Xferd  Average Speed   Time    Time     Time  Current\n",
            "                                 Dload  Upload   Total   Spent    Left  Speed\n",
            "100 80.2M  100 80.2M    0     0  31.4M      0  0:00:02  0:00:02 --:--:-- 31.4M\n"
          ]
        }
      ],
      "source": [
        "!curl -O https://ai.stanford.edu/~amaas/data/sentiment/aclImdb_v1.tar.gz\n",
        "!tar -xf aclImdb_v1.tar.gz"
      ]
    },
    {
      "cell_type": "markdown",
      "metadata": {
        "id": "PPBLF6rqr3Lo"
      },
      "source": [
        "Посмотрим содержание папок"
      ]
    },
    {
      "cell_type": "code",
      "execution_count": null,
      "metadata": {
        "colab": {
          "base_uri": "https://localhost:8080/"
        },
        "id": "sCClYoBVr3Lo",
        "outputId": "7c094930-938e-4086-c28c-c1f854d6f685"
      },
      "outputs": [
        {
          "output_type": "stream",
          "name": "stdout",
          "text": [
            "imdbEr.txt  imdb.vocab\tREADME\ttest  train\n"
          ]
        }
      ],
      "source": [
        "!ls aclImdb"
      ]
    },
    {
      "cell_type": "code",
      "execution_count": null,
      "metadata": {
        "colab": {
          "base_uri": "https://localhost:8080/"
        },
        "id": "eRcoHyCYr3Lo",
        "outputId": "beb1b942-e1f6-4372-d080-23c5b6874981"
      },
      "outputs": [
        {
          "output_type": "stream",
          "name": "stdout",
          "text": [
            "labeledBow.feat  neg  pos  urls_neg.txt  urls_pos.txt\n"
          ]
        }
      ],
      "source": [
        "!ls aclImdb/test"
      ]
    },
    {
      "cell_type": "code",
      "execution_count": null,
      "metadata": {
        "colab": {
          "base_uri": "https://localhost:8080/"
        },
        "id": "tuiJd2UQr3Lp",
        "outputId": "2fa822e9-c73f-485c-bf65-576e54c998af"
      },
      "outputs": [
        {
          "output_type": "stream",
          "name": "stdout",
          "text": [
            "labeledBow.feat  pos\tunsupBow.feat  urls_pos.txt\n",
            "neg\t\t unsup\turls_neg.txt   urls_unsup.txt\n"
          ]
        }
      ],
      "source": [
        "!ls aclImdb/train"
      ]
    },
    {
      "cell_type": "markdown",
      "metadata": {
        "id": "-dOmRvn8r3Lp"
      },
      "source": [
        "Папки содержат текстовые файлы отзывов, разделенные на положительные и отрицательные, в названиях файлов указан рейтинг отзыва."
      ]
    },
    {
      "cell_type": "markdown",
      "metadata": {
        "id": "GqUY__02r3Lq"
      },
      "source": [
        "Удалим папку unsup, а также создадим в папках train и test папки для разбиения отзывов по рейтингу, всего 8 папок (5 и 6 звезд у отзывов нет)"
      ]
    },
    {
      "cell_type": "code",
      "execution_count": null,
      "metadata": {
        "id": "jkwqvShCr3Lq"
      },
      "outputs": [],
      "source": [
        "!rm -r aclImdb/train/unsup"
      ]
    },
    {
      "cell_type": "code",
      "execution_count": null,
      "metadata": {
        "id": "5A8X8CwGRhUe"
      },
      "outputs": [],
      "source": [
        "for dir in range (1,5):\n",
        "    os.mkdir(f'aclImdb/train/{dir}')\n",
        "for dir in range (7,11):\n",
        "    os.mkdir(f'aclImdb/train/{dir}')"
      ]
    },
    {
      "cell_type": "code",
      "execution_count": null,
      "metadata": {
        "id": "X3MWmWxw5WS6",
        "colab": {
          "base_uri": "https://localhost:8080/"
        },
        "outputId": "06669122-f5a8-4130-c0a7-6bae84c68b43"
      },
      "outputs": [
        {
          "output_type": "stream",
          "name": "stdout",
          "text": [
            "1   2  4  8  labeledBow.feat  pos\t     urls_neg.txt  urls_unsup.txt\n",
            "10  3  7  9  neg\t      unsupBow.feat  urls_pos.txt\n"
          ]
        }
      ],
      "source": [
        "!ls aclImdb/train"
      ]
    },
    {
      "cell_type": "code",
      "execution_count": null,
      "metadata": {
        "id": "Efxio7onR7CQ",
        "colab": {
          "base_uri": "https://localhost:8080/"
        },
        "outputId": "64565475-dfa9-4987-b85b-d1e96f26cf30"
      },
      "outputs": [
        {
          "output_type": "stream",
          "name": "stdout",
          "text": [
            "1  10  2  3  4\t7  8  9  labeledBow.feat  neg  pos  urls_neg.txt  urls_pos.txt\n"
          ]
        }
      ],
      "source": [
        "for dir in range (1,5):\n",
        "    os.mkdir(f'aclImdb/test/{dir}')\n",
        "for dir in range (7,11):\n",
        "    os.mkdir(f'aclImdb/test/{dir}')\n",
        "!ls aclImdb/test "
      ]
    },
    {
      "cell_type": "markdown",
      "source": [
        "Теперь расположим файлы в папках соответствующих их рейтингу и удалим папки pos, neg"
      ],
      "metadata": {
        "id": "pY7MjKwyI-9q"
      }
    },
    {
      "cell_type": "code",
      "execution_count": null,
      "metadata": {
        "id": "dCY9hUqti_59"
      },
      "outputs": [],
      "source": [
        "directory = 'aclImdb/train'\n",
        " \n",
        "for root, dirs, files in os.walk(directory):\n",
        "    if root == 'aclImdb/train/neg' or root== 'aclImdb/train/pos':\n",
        "        for file_ in files:\n",
        "            if int(file_[-5])!=0:\n",
        "                dir_ = int(file_[-5])\n",
        "            else:  \n",
        "                dir_ = int(file_[-6:-4])\n",
        "\n",
        "            os.rename(''.join([root,'/',file_]), f'aclImdb/train/{dir_}/{file_}')"
      ]
    },
    {
      "cell_type": "code",
      "execution_count": null,
      "metadata": {
        "id": "oPluEvVQUozn"
      },
      "outputs": [],
      "source": [
        "!rm -r aclImdb/train/neg\n",
        "!rm -r aclImdb/train/pos"
      ]
    },
    {
      "cell_type": "code",
      "execution_count": null,
      "metadata": {
        "colab": {
          "base_uri": "https://localhost:8080/"
        },
        "id": "30C5Ca3kTeap",
        "outputId": "6220780d-64b3-4fb5-9cfe-3875b500fb06"
      },
      "outputs": [
        {
          "output_type": "stream",
          "name": "stdout",
          "text": [
            "1   2  4  8  labeledBow.feat  urls_neg.txt  urls_unsup.txt\n",
            "10  3  7  9  unsupBow.feat    urls_pos.txt\n"
          ]
        }
      ],
      "source": [
        "!ls aclImdb/train "
      ]
    },
    {
      "cell_type": "code",
      "execution_count": null,
      "metadata": {
        "id": "heJiLHekVD8_"
      },
      "outputs": [],
      "source": [
        "directory = 'aclImdb/test'\n",
        " \n",
        "for root, dirs, files in os.walk(directory):\n",
        "    if root == 'aclImdb/test/neg' or root== 'aclImdb/test/pos':\n",
        "        for file_ in files:\n",
        "            if int(file_[-5])!=0:\n",
        "                dir_ = int(file_[-5])\n",
        "            else:  \n",
        "                dir_ = int(file_[-6:-4])\n",
        "\n",
        "            os.rename(''.join([root,'/',file_]), f'aclImdb/test/{dir_}/{file_}')\n",
        "\n"
      ]
    },
    {
      "cell_type": "code",
      "execution_count": null,
      "metadata": {
        "id": "br6Yl1n5NIFq"
      },
      "outputs": [],
      "source": [
        "!rm -r aclImdb/test/neg\n",
        "!rm -r aclImdb/test/pos"
      ]
    },
    {
      "cell_type": "code",
      "execution_count": null,
      "metadata": {
        "id": "PO2P4FRFVEAj",
        "colab": {
          "base_uri": "https://localhost:8080/"
        },
        "outputId": "ed721164-aaa0-4ca4-a4ce-fe90cad9b059"
      },
      "outputs": [
        {
          "output_type": "stream",
          "name": "stdout",
          "text": [
            "1  10  2  3  4\t7  8  9  labeledBow.feat  urls_neg.txt\turls_pos.txt\n"
          ]
        }
      ],
      "source": [
        "!ls aclImdb/test"
      ]
    },
    {
      "cell_type": "markdown",
      "source": [
        "Используя функцию text_dataset_from_directory создадим train, valid, test датасеты."
      ],
      "metadata": {
        "id": "smmMVaeYLQGM"
      }
    },
    {
      "cell_type": "code",
      "execution_count": null,
      "metadata": {
        "colab": {
          "base_uri": "https://localhost:8080/"
        },
        "id": "KPrukP_qr3Lr",
        "outputId": "ef937f7e-4fc4-488c-a423-dbb7680eebd3"
      },
      "outputs": [
        {
          "output_type": "stream",
          "name": "stdout",
          "text": [
            "Found 25000 files belonging to 8 classes.\n",
            "Using 20000 files for training.\n",
            "Found 25000 files belonging to 8 classes.\n",
            "Using 5000 files for validation.\n",
            "Found 25000 files belonging to 8 classes.\n",
            "Number of batches in raw_train_ds: 625\n",
            "Number of batches in raw_val_ds: 157\n",
            "Number of batches in raw_test_ds: 782\n"
          ]
        }
      ],
      "source": [
        "batch_size = 32\n",
        "raw_train_ds = tf.keras.utils.text_dataset_from_directory(\n",
        "    \"aclImdb/train\",\n",
        "    batch_size=batch_size,\n",
        "    validation_split=0.2,\n",
        "    subset=\"training\",\n",
        "    seed=1337,\n",
        ")\n",
        "raw_val_ds = tf.keras.utils.text_dataset_from_directory(\n",
        "    \"aclImdb/train\",\n",
        "    batch_size=batch_size,\n",
        "    validation_split=0.2,\n",
        "    subset=\"validation\",\n",
        "    seed=1337,\n",
        ")\n",
        "raw_test_ds = tf.keras.utils.text_dataset_from_directory(\n",
        "    \"aclImdb/test\", batch_size=batch_size)\n",
        "\n",
        "print(f\"Number of batches in raw_train_ds: {raw_train_ds.cardinality()}\")\n",
        "print(f\"Number of batches in raw_val_ds: {raw_val_ds.cardinality()}\")\n",
        "print(f\"Number of batches in raw_test_ds: {raw_test_ds.cardinality()}\")"
      ]
    },
    {
      "cell_type": "markdown",
      "source": [
        "Посмотрим на соответствия меток и рейтингов, составим словарь"
      ],
      "metadata": {
        "id": "T1tak0hhLagV"
      }
    },
    {
      "cell_type": "code",
      "execution_count": null,
      "metadata": {
        "colab": {
          "base_uri": "https://localhost:8080/"
        },
        "id": "L_-tCO-gE0yL",
        "outputId": "da12df10-1c70-478e-b824-97248b9606b4"
      },
      "outputs": [
        {
          "output_type": "stream",
          "name": "stdout",
          "text": [
            "Label 0 corresponds to 1\n",
            "Label 1 corresponds to 10\n",
            "Label 2 corresponds to 2\n",
            "Label 3 corresponds to 3\n",
            "Label 4 corresponds to 4\n",
            "Label 5 corresponds to 7\n",
            "Label 6 corresponds to 8\n",
            "Label 7 corresponds to 9\n"
          ]
        }
      ],
      "source": [
        "for i, label in enumerate(raw_train_ds.class_names):\n",
        "  print(\"Label\", i, \"corresponds to\", label)"
      ]
    },
    {
      "cell_type": "code",
      "execution_count": null,
      "metadata": {
        "id": "GcCEyRxNPLfC"
      },
      "outputs": [],
      "source": [
        "labels_dict={0:1, 1:10, 2:2, 3:3, 4:4, 5:7, 6:8, 7:9}"
      ]
    },
    {
      "cell_type": "markdown",
      "metadata": {
        "id": "-zHKfpjEr3Lr"
      },
      "source": [
        "Посмотрим на несколько отзывов"
      ]
    },
    {
      "cell_type": "code",
      "execution_count": null,
      "metadata": {
        "colab": {
          "base_uri": "https://localhost:8080/"
        },
        "id": "jqR1cFg5r3Lr",
        "outputId": "8f504b03-296e-421a-e292-9621501c682f"
      },
      "outputs": [
        {
          "output_type": "stream",
          "name": "stdout",
          "text": [
            "b\"Good western filmed in the rocky Arizona wilds. Lots of tough guys throughout; Cobern's character seemed to rock back and forth between a raging psycho and a laid back type. Several holes appeared in the picture, but not enough to offset it being exciting and worth seeing. One really dumb scene shows Heston emptying .45 cases of their powder and collecting it in a sack for the purpose of starting a fire. A. To gather that much gunpowder he would have needed a pack mule to carry the ammo. B. The grass was obviously dry: why not just drop a match on it and let 'er rip?\"\n",
            "5\n",
            "b\"This film has great acting, great photography and a very strong story line that really makes you think about who you are, how you define yourself, how you fit in, whether you accept to play a role or break free... There already are excellent comments dealing with these aspects. I want to comment on the formal setting of the film. Basically, it's two people on a roof. There is unity of place and time, with 2 protagonists, and the radio acting as the choir. Many directors have turned Greek tragedies into film, many directors have filmed contemporary stories as if they were a Greek tragedy, but no director, in my opinion, has succeeded as admirably as Ettore Scola in approaching the purity and force of the great Greek tragedies both in story line and formal setting. A masterpiece.\"\n",
            "7\n",
            "b'I could barely keep myself from either nodding off or just turning off this turd, but I decided to stick it out if only for the reasoning that maybe *something* would happen. This is the work of a writer/producer/director/special fx, Kenneth Herts, who wants to make a statement on ecological damage while making a monster movie. That\\'s what he wanted, anyway. What it turns out to be is a lot of acting, either slightly hammy or just mundane and without much merit, and scenes that seem to repeat themselves as the monster ATTACKS in the river waters (oh, and what luck, a woman just happens to be naked in it... even though there have already been DISAPPEARANCES!) <br /><br />This is just nonsensical stuff, but I suppose it\\'s not too harmful; it\\'s not very obnoxious at the least and once or twice we get a semi-interesting peek at Brazilian \"culture\" (which is the father walking through town with his flock or other pieces of a semblance of \\'hey, this is NOT America!\\'). But whatever hope the director had in casting Mitchum or Carradine is squandered on at best pedestrian and at worst excruciatingly banal and dumb dialog. It doesn\\'t help that when we finally get something of a good look at the monster and the \"action\" happens, it too is stupidly staged and with only sleazy appeal. Usually I would feel sorry for a filmmaker who had a lot of problems getting a particular picture finished- in this case it took the better part of the mid 70s- but with Monstroid or Monster or whatever it\\'s called... nah.<br /><br />If you happen to get the Elvira DVD double-feature of this (bad print with bad transfer quality) with Blue Sunshine, make sure to skip this one. Unless, of course, you\\'re an Elvira die-hard and can\\'t help yourself to hear her luscious commentary; personally, I\\'d rather get Joel or Mike Nelson with the robots from Mystery Science Theater on this roast turkey.'\n",
            "3\n",
            "b'The first time I had the window of opportunity to see this all but forgotten classic was back in the early 1980\\'s,at one of our art houses as a revival. As I watched this fever dream of an exercise in 1930\\'s sexuality, I thought YOWZA! They got away with murder in Europe back in the day. Unfortunately, this film was heavily cut in it\\'s original U.S. release by the blue nosed Hayes Office (the staunch government censorship board,started by the \"holier than thou\" Bible thumper, Will Hayes...a former Post Office official,if you can believe that),due to it\\'s overall theme of human sexuality (Heaven\\'s forbid humans actually had sex in the 1930\\'s). The plot of Ecstasy concerns a young woman (played by Hedy Lamarr)who marries a much older man,and later regrets it. She (Lamarr)meets a handsome younger man & has an affair with him, resulting in a divorce from previous husband (another no no in Hollywood movies back then---Divorce!). Despite the fact that the film was produced in 1933, it was probably the director\\'s first time working in the sound format (i.e. the film seems to possess techniques that were used mostly in silent films---i.e. 1920\\'s expressionism\\'s). It\\'s still worth searching out for a window into early European talking pictures,along with Luis Bunuels L\\'Age Dor (1930),and Karl Gustav Dryer\\'s \\'Vampyre\\' (1931). Not rated,but contains that infamous nude swimming scene & some thinly veiled sexual references, which would fare little more than a PG-13 by today\\'s standards (but would have easily landed the dreaded \\'X\\',back in the 30\\'s,if it existed then)'\n",
            "1\n",
            "b'Bela Lugosi gets to play one of his rare good guy roles in a serial based upon the long running radio hit (which was also the source of a feature film where Lugosi played the villain.) Lugosi cuts a fine dashing figure and its sad that he didn\\'t get more roles where he could be the guy in command in a good way. Here Chandu returns from the East in order to help the Princess Nadji who is being hunted by the leaders of the cult of Ubasti who need her to bring back from the dead the high priestess of their cult. This is a good looking globe trotting serial that is a great deal of fun. To be certain the pacing is a bit slack, more akin to one of Principals (the producing studios) features then a rip roaring adventure, but it\\'s still enjoyable. This plays better than the two feature films that were cut from it because it allows for things to happen at their own pace instead of feeling rushed or having a sense that \"hey I missed something\". One of the trilogy of three good serials Lugosi made, the others being SOS Coast Guard and Phantom Creeps'\n",
            "5\n"
          ]
        }
      ],
      "source": [
        "for comments, labels in raw_train_ds.take(1):\n",
        "    for i in range(5):\n",
        "        print(comments.numpy()[i])\n",
        "        print(labels.numpy()[i])"
      ]
    },
    {
      "cell_type": "markdown",
      "metadata": {
        "id": "hCkHi9C7r3Ls"
      },
      "source": [
        "## 3. Подготовка данных\n"
      ]
    },
    {
      "cell_type": "markdown",
      "source": [
        "Сначала проведем отчистку и стандартизацию отзывов"
      ],
      "metadata": {
        "id": "xVeRtDHIMLMK"
      }
    },
    {
      "cell_type": "code",
      "execution_count": null,
      "metadata": {
        "colab": {
          "base_uri": "https://localhost:8080/"
        },
        "id": "f9cs6jD_qZlT",
        "outputId": "85c92076-6507-4bd4-a9bf-6c2ff1857a43"
      },
      "outputs": [
        {
          "output_type": "stream",
          "name": "stderr",
          "text": [
            "[nltk_data] Downloading package stopwords to /root/nltk_data...\n",
            "[nltk_data]   Unzipping corpora/stopwords.zip.\n"
          ]
        }
      ],
      "source": [
        "stops = nltk.download('stopwords')\n",
        "stops=set(stopwords.words('english'))"
      ]
    },
    {
      "cell_type": "code",
      "execution_count": null,
      "metadata": {
        "colab": {
          "base_uri": "https://localhost:8080/",
          "height": 284
        },
        "id": "b4iZvxefn1sa",
        "outputId": "50747a16-6231-464a-da91-83a0e58d445b"
      },
      "outputs": [
        {
          "output_type": "execute_result",
          "data": {
            "text/plain": [
              "<AxesSubplot:>"
            ]
          },
          "metadata": {},
          "execution_count": 25
        },
        {
          "output_type": "display_data",
          "data": {
            "text/plain": [
              "<Figure size 432x288 with 1 Axes>"
            ],
            "image/png": "[encoded data removed]"
          },
          "metadata": {
            "needs_background": "light"
          }
        }
      ],
      "source": [
        "# построим график самых повторяющихся слов без стоп-слов\n",
        "corpus=[]\n",
        "for comments, _ in raw_train_ds:\n",
        "      for x in comments.numpy():\n",
        "        for i in str(x).split():\n",
        "          corpus.append(i)\n",
        "counter=Counter(corpus)\n",
        "most_common=counter.most_common()\n",
        "x, y = [], []\n",
        "for word,count in most_common[:100]:\n",
        "    if (word not in stops) :\n",
        "        x.append(word)\n",
        "        y.append(count)\n",
        "sns.barplot(x=y,y=x)"
      ]
    },
    {
      "cell_type": "code",
      "execution_count": null,
      "metadata": {
        "id": "hdqFq1S_DtUb"
      },
      "outputs": [],
      "source": [
        "# удалим стоп-слова\n",
        "def remove_stopwords(text, label):\n",
        "    text = tf.strings.regex_replace(text, r'\\b(' + r'|'.join(stops) + r')\\b\\s*',\"\")\n",
        "    return text, label\n",
        "\n",
        "raw_train_ds, raw_val_ds, raw_test_ds = raw_train_ds.map(remove_stopwords), raw_val_ds.map(remove_stopwords), raw_test_ds.map(remove_stopwords)"
      ]
    },
    {
      "cell_type": "code",
      "execution_count": null,
      "metadata": {
        "id": "VR6S9g2zzCw6"
      },
      "outputs": [],
      "source": [
        "# удалим теги\n",
        "def remove_tags(text, label):\n",
        "    return tf.strings.regex_replace(text, \"<br />\", \" \"), label\n",
        "\n",
        "raw_train_ds, raw_val_ds, raw_test_ds = raw_train_ds.map(remove_tags), raw_val_ds.map(remove_tags), raw_test_ds.map(remove_tags)"
      ]
    },
    {
      "cell_type": "code",
      "execution_count": null,
      "metadata": {
        "id": "QUCN91wtr-Nn"
      },
      "outputs": [],
      "source": [
        "# удалим пунктуацию и переведем слова в нижний регистр\n",
        "def remove_punctuations(text, label):\n",
        "    text = tf.strings.lower(text)\n",
        "    return tf.strings.regex_replace(text, '[^\\w\\s]', ''), label\n",
        "\n",
        "# удалим оставшийся HTML синтаксис\n",
        "def remove_html(text, label):\n",
        "    return tf.strings.regex_replace(text, '<.*?>', ''), label\n",
        "\n",
        "# удалим URL\n",
        "def remove_url(text, label):\n",
        "    return tf.strings.regex_replace(text, 'https://\\S+|www\\.\\S+', ''), label\n",
        "\n",
        "# удалим эмодзи (если они есть)\n",
        "def remove_emoji(text, label):\n",
        "    text = tf.strings.regex_replace(text, \"[\"\n",
        "                           u\"\\U0001F600-\\U0001F64F\"  # emoticons\n",
        "                           u\"\\U0001F300-\\U0001F5FF\"  # symbols & pictographs\n",
        "                           u\"\\U0001F680-\\U0001F6FF\"  # transport & map symbols\n",
        "                           u\"\\U0001F1E0-\\U0001F1FF\"  # flags (iOS)\n",
        "                           u\"\\U00002702-\\U000027B0\"\n",
        "                           u\"\\U000024C2-\\U0001F251\"\n",
        "                           \"]+\", '')\n",
        "    return tf.strings.regex_replace(text, 'https://\\S+|www\\.\\S+', ''), label\n",
        "\n",
        "raw_train_ds, raw_val_ds, raw_test_ds = raw_train_ds.map(remove_punctuations), raw_val_ds.map(remove_punctuations), raw_test_ds.map(remove_punctuations)\n",
        "raw_train_ds, raw_val_ds, raw_test_ds = raw_train_ds.map(remove_html), raw_val_ds.map(remove_html), raw_test_ds.map(remove_html)\n",
        "raw_train_ds, raw_val_ds, raw_test_ds = raw_train_ds.map(remove_url), raw_val_ds.map(remove_url), raw_test_ds.map(remove_url)\n",
        "raw_train_ds, raw_val_ds, raw_test_ds = raw_train_ds.map(remove_emoji), raw_val_ds.map(remove_emoji), raw_test_ds.map(remove_emoji)"
      ]
    },
    {
      "cell_type": "code",
      "execution_count": null,
      "metadata": {
        "id": "lzTgL1e9r-Qt"
      },
      "outputs": [],
      "source": [
        "# расшифруем сокращенные выражения\n",
        "def remove_abb(text, label):\n",
        "    text = tf.strings.regex_replace(text, \"he's\", \"he is\")\n",
        "    text = tf.strings.regex_replace(text, \"there's\", \"there is\")\n",
        "    text = tf.strings.regex_replace(text, \"We're\", \"We are\")\n",
        "    text = tf.strings.regex_replace(text, \"That's\", \"That is\")\n",
        "    text = tf.strings.regex_replace(text, \"won't\", \"will not\")\n",
        "    text = tf.strings.regex_replace(text, \"they're\", \"they are\")\n",
        "    text = tf.strings.regex_replace(text, \"Can't\", \"Cannot\")\n",
        "    text = tf.strings.regex_replace(text, \"wasn't\", \"was not\")\n",
        "    text = tf.strings.regex_replace(text, \"don\\x89Ûªt\", \"do not\")\n",
        "    text = tf.strings.regex_replace(text, \"aren't\", \"are not\")\n",
        "    text = tf.strings.regex_replace(text, \"isn't\", \"is not\")\n",
        "    text = tf.strings.regex_replace(text, \"What's\", \"What is\")\n",
        "    text = tf.strings.regex_replace(text, \"haven't\", \"have not\")\n",
        "    text = tf.strings.regex_replace(text, \"hasn't\", \"has not\")\n",
        "    text = tf.strings.regex_replace(text, \"There's\", \"There is\")\n",
        "    text = tf.strings.regex_replace(text, \"He's\", \"He is\")\n",
        "    text = tf.strings.regex_replace(text, \"It's\", \"It is\")\n",
        "    text = tf.strings.regex_replace(text, \"You're\", \"You are\")\n",
        "    text = tf.strings.regex_replace(text, \"I'M\", \"I am\")\n",
        "    text = tf.strings.regex_replace(text, \"shouldn't\", \"should not\")\n",
        "    text = tf.strings.regex_replace(text, \"wouldn't\", \"would not\")\n",
        "    text = tf.strings.regex_replace(text, \"i'm\", \"I am\")\n",
        "    text = tf.strings.regex_replace(text, \"I\\x89Ûªm\", \"I am\")\n",
        "    text = tf.strings.regex_replace(text, \"I'm\", \"I am\")\n",
        "    text = tf.strings.regex_replace(text, \"Isn't\", \"is not\")\n",
        "    text = tf.strings.regex_replace(text, \"Here's\", \"Here is\")\n",
        "    text = tf.strings.regex_replace(text, \"you've\", \"you have\")\n",
        "    text = tf.strings.regex_replace(text, \"you\\x89Ûªve\", \"you have\")\n",
        "    text = tf.strings.regex_replace(text, \"we're\", \"we are\")\n",
        "    text = tf.strings.regex_replace(text, \"what's\", \"what is\")\n",
        "    text = tf.strings.regex_replace(text, \"couldn't\", \"could not\")\n",
        "    text = tf.strings.regex_replace(text, \"we've\", \"we have\")\n",
        "    text = tf.strings.regex_replace(text, \"it\\x89Ûªs\", \"it is\")\n",
        "    text = tf.strings.regex_replace(text, \"doesn\\x89Ûªt\", \"does not\")\n",
        "    text = tf.strings.regex_replace(text, \"It\\x89Ûªs\", \"It is\")\n",
        "    text = tf.strings.regex_replace(text, \"Here\\x89Ûªs\", \"Here is\")\n",
        "    text = tf.strings.regex_replace(text, \"who's\", \"who is\")\n",
        "    text = tf.strings.regex_replace(text, \"I\\x89Ûªve\", \"I have\")\n",
        "    text = tf.strings.regex_replace(text, \"y'all\", \"you all\")\n",
        "    text = tf.strings.regex_replace(text, \"can\\x89Ûªt\", \"cannot\")\n",
        "    text = tf.strings.regex_replace(text, \"would've\", \"would have\")\n",
        "    text = tf.strings.regex_replace(text, \"it'll\", \"it will\")\n",
        "    text = tf.strings.regex_replace(text, \"we'll\", \"we will\")\n",
        "    text = tf.strings.regex_replace(text, \"wouldn\\x89Ûªt\", \"would not\")\n",
        "    text = tf.strings.regex_replace(text, \"We've\", \"We have\")\n",
        "    text = tf.strings.regex_replace(text, \"he'll\", \"he will\")\n",
        "    text = tf.strings.regex_replace(text, \"Y'all\", \"You all\")\n",
        "    text = tf.strings.regex_replace(text, \"Weren't\", \"Were not\")\n",
        "    text = tf.strings.regex_replace(text, \"Didn't\", \"Did not\")\n",
        "    text = tf.strings.regex_replace(text, \"they'll\", \"they will\")\n",
        "    text = tf.strings.regex_replace(text, \"they'd\", \"they would\")\n",
        "    text = tf.strings.regex_replace(text, \"DON'T\", \"DO NOT\")\n",
        "    text = tf.strings.regex_replace(text, \"That\\x89Ûªs\", \"That is\")\n",
        "    text = tf.strings.regex_replace(text, \"they've\", \"they have\")\n",
        "    text = tf.strings.regex_replace(text, \"i'd\", \"I would\")\n",
        "    text = tf.strings.regex_replace(text, \"should've\", \"should have\")\n",
        "    text = tf.strings.regex_replace(text, \"You\\x89Ûªre\", \"You are\")\n",
        "    text = tf.strings.regex_replace(text, \"where's\", \"where is\")\n",
        "    text = tf.strings.regex_replace(text, \"Don\\x89Ûªt\", \"Do not\")\n",
        "    text = tf.strings.regex_replace(text, \"we'd\", \"we would\")\n",
        "    text = tf.strings.regex_replace(text, \"i'll\", \"I will\")\n",
        "    text = tf.strings.regex_replace(text, \"weren't\", \"were not\")\n",
        "    text = tf.strings.regex_replace(text, \"They're\", \"They are\")\n",
        "    text = tf.strings.regex_replace(text, \"Can\\x89Ûªt\", \"Cannot\")\n",
        "    text = tf.strings.regex_replace(text, \"you\\x89Ûªll\", \"you will\")\n",
        "    text = tf.strings.regex_replace(text, \"I\\x89Ûªd\", \"I would\")\n",
        "    text = tf.strings.regex_replace(text, \"let's\", \"let us\")\n",
        "    text = tf.strings.regex_replace(text, \"it's\", \"it is\")\n",
        "    text = tf.strings.regex_replace(text, \"can't\", \"cannot\")\n",
        "    text = tf.strings.regex_replace(text, \"don't\", \"do not\")\n",
        "    text = tf.strings.regex_replace(text, \"you're\", \"you are\")\n",
        "    text = tf.strings.regex_replace(text, \"i've\", \"I have\")\n",
        "    text = tf.strings.regex_replace(text, \"that's\", \"that is\")\n",
        "    text = tf.strings.regex_replace(text, \"i'll\", \"I will\")\n",
        "    text = tf.strings.regex_replace(text, \"doesn't\", \"does not\")\n",
        "    text = tf.strings.regex_replace(text, \"i'd\", \"I would\")\n",
        "    text = tf.strings.regex_replace(text, \"didn't\", \"did not\")\n",
        "    text = tf.strings.regex_replace(text, \"ain't\", \"am not\")\n",
        "    text = tf.strings.regex_replace(text, \"you'll\", \"you will\")\n",
        "    text = tf.strings.regex_replace(text, \"I've\", \"I have\")\n",
        "    text = tf.strings.regex_replace(text, \"Don't\", \"do not\")\n",
        "    text = tf.strings.regex_replace(text, \"I'll\", \"I will\")\n",
        "    text = tf.strings.regex_replace(text, \"I'd\", \"I would\")\n",
        "    text = tf.strings.regex_replace(text, \"Let's\", \"Let us\")\n",
        "    text = tf.strings.regex_replace(text, \"you'd\", \"You would\")\n",
        "    text = tf.strings.regex_replace(text, \"It's\", \"It is\")\n",
        "    text = tf.strings.regex_replace(text, \"Ain't\", \"am not\")\n",
        "    text = tf.strings.regex_replace(text, \"Haven't\", \"Have not\")\n",
        "    text = tf.strings.regex_replace(text, \"Could've\", \"Could have\")\n",
        "    text = tf.strings.regex_replace(text, \"youve\", \"you have\")  \n",
        "    text = tf.strings.regex_replace(text, \"donå«t\", \"do not\") \n",
        "    return text, label  \n",
        "raw_train_ds, raw_val_ds, raw_test_ds = raw_train_ds.map(remove_abb), raw_val_ds.map(remove_abb), raw_test_ds.map(remove_abb)"
      ]
    },
    {
      "cell_type": "code",
      "execution_count": null,
      "metadata": {
        "colab": {
          "base_uri": "https://localhost:8080/",
          "height": 283
        },
        "id": "aFA03nMAD_Dk",
        "outputId": "2498516b-ea2c-408e-92d5-312823f2138f"
      },
      "outputs": [
        {
          "output_type": "execute_result",
          "data": {
            "text/plain": [
              "<AxesSubplot:>"
            ]
          },
          "metadata": {},
          "execution_count": 30
        },
        {
          "output_type": "display_data",
          "data": {
            "text/plain": [
              "<Figure size 432x288 with 1 Axes>"
            ],
            "image/png": "[encoded data removed]"
          },
          "metadata": {
            "needs_background": "light"
          }
        }
      ],
      "source": [
        "# повторно построим график самых повторяющихся слов\n",
        "corpus=[]\n",
        "for comments, _ in raw_train_ds:\n",
        "      for x in comments.numpy():\n",
        "        for i in str(x).split():\n",
        "          corpus.append(i)\n",
        "counter=Counter(corpus)\n",
        "most_common=counter.most_common()\n",
        "x, y = [], []\n",
        "for word,count in most_common[:20]:\n",
        "    x.append(word)\n",
        "    y.append(count)\n",
        "sns.barplot(x=y,y=x)"
      ]
    },
    {
      "cell_type": "markdown",
      "source": [
        "После очистки отзывов векторизуем их при помощи tf.keras.layers.TextVectorization"
      ],
      "metadata": {
        "id": "vkojlF33PGZt"
      }
    },
    {
      "cell_type": "code",
      "execution_count": null,
      "metadata": {
        "id": "bVbJSo-sr3Ls"
      },
      "outputs": [],
      "source": [
        "# Константы модели\n",
        "max_features = 20000\n",
        "embedding_dim = 128\n",
        "sequence_length = 500\n",
        "\n",
        "# слой векторизации\n",
        "vectorize_layer = tf.keras.layers.TextVectorization(\n",
        "    standardize=None,\n",
        "    max_tokens=max_features,\n",
        "    output_mode=\"int\",\n",
        "    output_sequence_length=sequence_length,\n",
        ")\n",
        "\n",
        "# адаптируем vectorize_layer к нашим отзывам\n",
        "text_ds = raw_train_ds.map(lambda x, y: x)\n",
        "vectorize_layer.adapt(text_ds)"
      ]
    },
    {
      "cell_type": "code",
      "execution_count": null,
      "metadata": {
        "id": "dA1UOemmr3Lt"
      },
      "outputs": [],
      "source": [
        "# функция векторизации для векторизации датасета\n",
        "def vectorize_text(text, label):\n",
        "    text = tf.expand_dims(text, -1)\n",
        "    return vectorize_layer(text), label\n",
        "\n",
        "\n",
        "# Векторизуем данные\n",
        "train_ds = raw_train_ds.map(vectorize_text)\n",
        "val_ds = raw_val_ds.map(vectorize_text)\n",
        "test_ds = raw_test_ds.map(vectorize_text)\n",
        "\n",
        "\n",
        "train_ds = train_ds.cache().prefetch(buffer_size=10)\n",
        "val_ds = val_ds.cache().prefetch(buffer_size=10)\n",
        "test_ds = test_ds.cache().prefetch(buffer_size=10)"
      ]
    },
    {
      "cell_type": "markdown",
      "metadata": {
        "id": "MMQZ7dLkr3Lt"
      },
      "source": [
        "## 4. Построение простых моделей\n",
        "\n",
        "Здесь выберем несколько моделей и построим их.\n",
        "Так как классов 8, то и результирующий слой будет из 8 нейронов."
      ]
    },
    {
      "cell_type": "code",
      "execution_count": null,
      "metadata": {
        "id": "uPIY3FhpMjyt"
      },
      "outputs": [],
      "source": [
        "# Conv1D модель\n",
        "inputs = tf.keras.Input(shape=(None,), dtype=\"int64\")\n",
        "x = layers.Embedding(max_features, embedding_dim)(inputs)\n",
        "x = layers.Dropout(0.5)(x)\n",
        "\n",
        "x = layers.Conv1D(128, 7, padding=\"valid\", activation=\"relu\", strides=3)(x)\n",
        "x = layers.Conv1D(128, 7, padding=\"valid\", activation=\"relu\", strides=3)(x)\n",
        "x = layers.GlobalMaxPooling1D()(x)\n",
        "\n",
        "x = layers.Dense(128, activation=\"relu\")(x)\n",
        "x = layers.Dropout(0.5)(x)\n",
        "predictions = tf.keras.layers.Dense(8, name=\"predictions\")(x)\n",
        "\n",
        "model_conv = tf.keras.Model(inputs, predictions)\n",
        "model_conv.compile(loss=tf.keras.losses.SparseCategoricalCrossentropy(from_logits=True), optimizer=\"adam\", metrics=[\"accuracy\"])"
      ]
    },
    {
      "cell_type": "code",
      "execution_count": null,
      "metadata": {
        "id": "90KgF_aar3Lt"
      },
      "outputs": [],
      "source": [
        "# LSTM 2 слоя\n",
        "inputs = tf.keras.Input(shape=(None,), dtype=\"int64\")\n",
        "x = layers.Embedding(max_features, embedding_dim)(inputs)\n",
        "\n",
        "x = layers.LSTM(128, return_sequences=True, return_state=False)(x)\n",
        "x = layers.LSTM(256, return_sequences=True, return_state=False)(x)\n",
        "x = layers.GlobalMaxPooling1D()(x)\n",
        "\n",
        "x = layers.Dense(128, activation=\"relu\")(x)\n",
        "predictions = tf.keras.layers.Dense(8, name=\"predictions\")(x)\n",
        "\n",
        "model_LSTM2 = tf.keras.Model(inputs, predictions)\n",
        "model_LSTM2.compile(loss=tf.keras.losses.SparseCategoricalCrossentropy(from_logits=True), optimizer=\"adam\", metrics=[\"accuracy\"])"
      ]
    },
    {
      "cell_type": "code",
      "execution_count": null,
      "metadata": {
        "id": "TRswSwsh6qui"
      },
      "outputs": [],
      "source": [
        "# Bidirectional LSTM\n",
        "inputs = tf.keras.Input(shape=(None,), dtype=\"int64\")\n",
        "x = layers.Embedding(max_features, embedding_dim)(inputs)\n",
        "\n",
        "x = layers.Conv1D(filters = 32, kernel_size = 3, padding = 'same', activation = 'relu')(x)\n",
        "x = layers.AveragePooling1D(pool_size = 2)(x)\n",
        "x = layers.Bidirectional(LSTM(200, dropout = 0.5))(x)\n",
        "\n",
        "predictions = tf.keras.layers.Dense(8, name=\"predictions\")(x)\n",
        "\n",
        "model_bi = tf.keras.Model(inputs, predictions)\n",
        "model_bi.compile(loss=tf.keras.losses.SparseCategoricalCrossentropy(from_logits=True), optimizer=\"adam\", metrics=[\"accuracy\"])"
      ]
    },
    {
      "cell_type": "code",
      "execution_count": null,
      "metadata": {
        "id": "8Scntt66AX-Z"
      },
      "outputs": [],
      "source": [
        "# LSTM модель\n",
        "inputs = tf.keras.Input(shape=(None,), dtype=\"int64\")\n",
        "x = layers.Embedding(max_features, embedding_dim)(inputs)\n",
        "\n",
        "x = layers.Bidirectional(LSTM(75, dropout = 0.1))(x)\n",
        "predictions = tf.keras.layers.Dense(8, name=\"predictions\")(x)\n",
        "\n",
        "model_LSTM = tf.keras.Model(inputs, predictions)\n",
        "model_LSTM.compile(loss=tf.keras.losses.SparseCategoricalCrossentropy(from_logits=True), optimizer=\"adam\", metrics=[\"accuracy\"])"
      ]
    },
    {
      "cell_type": "markdown",
      "metadata": {
        "id": "IZE2mZPer3Lt"
      },
      "source": [
        "## 5. Тренировка моделей"
      ]
    },
    {
      "cell_type": "code",
      "source": [
        "epochs = 15\n",
        "\n",
        "model_conv.fit(train_ds, validation_data=val_ds, epochs=epochs)"
      ],
      "metadata": {
        "colab": {
          "base_uri": "https://localhost:8080/"
        },
        "id": "6gHg6f35tOgZ",
        "outputId": "de56173d-0887-4ddf-aff3-e7348fabf7da"
      },
      "execution_count": null,
      "outputs": [
        {
          "output_type": "stream",
          "name": "stdout",
          "text": [
            "Epoch 1/15\n",
            "625/625 [==============================] - 19s 15ms/step - loss: 1.8661 - accuracy: 0.2840 - val_loss: 1.6135 - val_accuracy: 0.3646\n",
            "Epoch 2/15\n",
            "625/625 [==============================] - 6s 9ms/step - loss: 1.4795 - accuracy: 0.4161 - val_loss: 1.5278 - val_accuracy: 0.4048\n",
            "Epoch 3/15\n",
            "625/625 [==============================] - 6s 9ms/step - loss: 1.2202 - accuracy: 0.5059 - val_loss: 1.6473 - val_accuracy: 0.3928\n",
            "Epoch 4/15\n",
            "625/625 [==============================] - 5s 8ms/step - loss: 1.0267 - accuracy: 0.5798 - val_loss: 1.8559 - val_accuracy: 0.3630\n",
            "Epoch 5/15\n",
            "625/625 [==============================] - 5s 8ms/step - loss: 0.8792 - accuracy: 0.6341 - val_loss: 1.9184 - val_accuracy: 0.3614\n",
            "Epoch 6/15\n",
            "625/625 [==============================] - 6s 9ms/step - loss: 0.7621 - accuracy: 0.6793 - val_loss: 2.3297 - val_accuracy: 0.3556\n",
            "Epoch 7/15\n",
            "625/625 [==============================] - 5s 9ms/step - loss: 0.6850 - accuracy: 0.7161 - val_loss: 2.5474 - val_accuracy: 0.3546\n",
            "Epoch 8/15\n",
            "625/625 [==============================] - 5s 8ms/step - loss: 0.6241 - accuracy: 0.7439 - val_loss: 2.8591 - val_accuracy: 0.3484\n",
            "Epoch 9/15\n",
            "625/625 [==============================] - 5s 9ms/step - loss: 0.5872 - accuracy: 0.7598 - val_loss: 3.0043 - val_accuracy: 0.3540\n",
            "Epoch 10/15\n",
            "625/625 [==============================] - 5s 8ms/step - loss: 0.5415 - accuracy: 0.7800 - val_loss: 3.5641 - val_accuracy: 0.3494\n",
            "Epoch 11/15\n",
            "625/625 [==============================] - 6s 9ms/step - loss: 0.5126 - accuracy: 0.7904 - val_loss: 3.5576 - val_accuracy: 0.3520\n",
            "Epoch 12/15\n",
            "625/625 [==============================] - 5s 8ms/step - loss: 0.4759 - accuracy: 0.8080 - val_loss: 3.8730 - val_accuracy: 0.3506\n",
            "Epoch 13/15\n",
            "625/625 [==============================] - 6s 10ms/step - loss: 0.4450 - accuracy: 0.8225 - val_loss: 4.2487 - val_accuracy: 0.3442\n",
            "Epoch 14/15\n",
            "625/625 [==============================] - 5s 8ms/step - loss: 0.4214 - accuracy: 0.8336 - val_loss: 4.2239 - val_accuracy: 0.3434\n",
            "Epoch 15/15\n",
            "625/625 [==============================] - 5s 8ms/step - loss: 0.4155 - accuracy: 0.8386 - val_loss: 4.6695 - val_accuracy: 0.3444\n"
          ]
        },
        {
          "output_type": "execute_result",
          "data": {
            "text/plain": [
              "<keras.callbacks.History at 0x7f194d7e4730>"
            ]
          },
          "metadata": {},
          "execution_count": 37
        }
      ]
    },
    {
      "cell_type": "code",
      "execution_count": null,
      "metadata": {
        "id": "xCF705t4r3Lt",
        "colab": {
          "base_uri": "https://localhost:8080/"
        },
        "outputId": "27e26cf9-6913-4382-cf32-7c93992284e4"
      },
      "outputs": [
        {
          "output_type": "stream",
          "name": "stdout",
          "text": [
            "Epoch 1/15\n",
            "625/625 [==============================] - 30s 48ms/step - loss: 0.0718 - accuracy: 0.9771 - val_loss: 4.4851 - val_accuracy: 0.3636\n",
            "Epoch 2/15\n",
            "625/625 [==============================] - 30s 48ms/step - loss: 0.0547 - accuracy: 0.9817 - val_loss: 4.7505 - val_accuracy: 0.3604\n",
            "Epoch 3/15\n",
            "625/625 [==============================] - 30s 48ms/step - loss: 0.0463 - accuracy: 0.9843 - val_loss: 5.0044 - val_accuracy: 0.3656\n",
            "Epoch 4/15\n",
            "625/625 [==============================] - 30s 48ms/step - loss: 0.0439 - accuracy: 0.9864 - val_loss: 5.5565 - val_accuracy: 0.3476\n",
            "Epoch 5/15\n",
            "625/625 [==============================] - 30s 47ms/step - loss: 0.0412 - accuracy: 0.9870 - val_loss: 5.8506 - val_accuracy: 0.3376\n",
            "Epoch 6/15\n",
            "625/625 [==============================] - 30s 48ms/step - loss: 0.0357 - accuracy: 0.9889 - val_loss: 5.7490 - val_accuracy: 0.3508\n",
            "Epoch 7/15\n",
            "625/625 [==============================] - 30s 48ms/step - loss: 0.0349 - accuracy: 0.9885 - val_loss: 5.6201 - val_accuracy: 0.3698\n",
            "Epoch 8/15\n",
            "625/625 [==============================] - 30s 48ms/step - loss: 0.0269 - accuracy: 0.9915 - val_loss: 5.8353 - val_accuracy: 0.3638\n",
            "Epoch 9/15\n",
            "625/625 [==============================] - 30s 49ms/step - loss: 0.0246 - accuracy: 0.9928 - val_loss: 6.0614 - val_accuracy: 0.3600\n",
            "Epoch 10/15\n",
            "625/625 [==============================] - 30s 49ms/step - loss: 0.0205 - accuracy: 0.9934 - val_loss: 6.1031 - val_accuracy: 0.3766\n",
            "Epoch 11/15\n",
            "625/625 [==============================] - 30s 48ms/step - loss: 0.0217 - accuracy: 0.9935 - val_loss: 6.2045 - val_accuracy: 0.3618\n",
            "Epoch 12/15\n",
            "625/625 [==============================] - 30s 48ms/step - loss: 0.0241 - accuracy: 0.9924 - val_loss: 6.1966 - val_accuracy: 0.3578\n",
            "Epoch 13/15\n",
            "625/625 [==============================] - 30s 48ms/step - loss: 0.0311 - accuracy: 0.9898 - val_loss: 6.0821 - val_accuracy: 0.3730\n",
            "Epoch 14/15\n",
            "625/625 [==============================] - 30s 48ms/step - loss: 0.0273 - accuracy: 0.9911 - val_loss: 6.0781 - val_accuracy: 0.3652\n",
            "Epoch 15/15\n",
            "625/625 [==============================] - 30s 48ms/step - loss: 0.0189 - accuracy: 0.9942 - val_loss: 6.0543 - val_accuracy: 0.3706\n"
          ]
        },
        {
          "output_type": "execute_result",
          "data": {
            "text/plain": [
              "<keras.callbacks.History at 0x7efc3763e280>"
            ]
          },
          "metadata": {},
          "execution_count": 47
        }
      ],
      "source": [
        "epochs = 15\n",
        "\n",
        "model_LSTM2.fit(train_ds, validation_data=val_ds, epochs=epochs)"
      ]
    },
    {
      "cell_type": "code",
      "source": [
        "epochs = 15\n",
        "\n",
        "model_bi.fit(train_ds, validation_data=val_ds, epochs=epochs)"
      ],
      "metadata": {
        "colab": {
          "base_uri": "https://localhost:8080/"
        },
        "id": "I43YgqbSwLN4",
        "outputId": "b538b110-a864-423e-bed3-615bc1aa646c"
      },
      "execution_count": null,
      "outputs": [
        {
          "output_type": "stream",
          "name": "stdout",
          "text": [
            "Epoch 1/15\n",
            "625/625 [==============================] - 26s 31ms/step - loss: 1.7770 - accuracy: 0.3209 - val_loss: 1.5678 - val_accuracy: 0.3786\n",
            "Epoch 2/15\n",
            "625/625 [==============================] - 19s 31ms/step - loss: 1.4233 - accuracy: 0.4347 - val_loss: 1.5837 - val_accuracy: 0.3844\n",
            "Epoch 3/15\n",
            "625/625 [==============================] - 18s 29ms/step - loss: 1.2464 - accuracy: 0.4967 - val_loss: 1.6215 - val_accuracy: 0.4034\n",
            "Epoch 4/15\n",
            "625/625 [==============================] - 18s 30ms/step - loss: 1.1273 - accuracy: 0.5403 - val_loss: 1.7447 - val_accuracy: 0.3428\n",
            "Epoch 5/15\n",
            "625/625 [==============================] - 18s 29ms/step - loss: 1.0195 - accuracy: 0.5843 - val_loss: 1.8704 - val_accuracy: 0.3498\n",
            "Epoch 6/15\n",
            "625/625 [==============================] - 18s 29ms/step - loss: 0.9142 - accuracy: 0.6263 - val_loss: 2.0119 - val_accuracy: 0.3434\n",
            "Epoch 7/15\n",
            "625/625 [==============================] - 18s 29ms/step - loss: 0.8320 - accuracy: 0.6618 - val_loss: 2.0662 - val_accuracy: 0.3446\n",
            "Epoch 8/15\n",
            "625/625 [==============================] - 18s 29ms/step - loss: 0.7728 - accuracy: 0.6892 - val_loss: 2.1963 - val_accuracy: 0.3642\n",
            "Epoch 9/15\n",
            "625/625 [==============================] - 18s 29ms/step - loss: 0.7325 - accuracy: 0.7050 - val_loss: 2.2216 - val_accuracy: 0.3590\n",
            "Epoch 10/15\n",
            "625/625 [==============================] - 18s 29ms/step - loss: 0.6611 - accuracy: 0.7363 - val_loss: 2.4095 - val_accuracy: 0.3540\n",
            "Epoch 11/15\n",
            "625/625 [==============================] - 18s 29ms/step - loss: 0.5984 - accuracy: 0.7632 - val_loss: 2.6152 - val_accuracy: 0.3412\n",
            "Epoch 12/15\n",
            "625/625 [==============================] - 18s 29ms/step - loss: 0.5437 - accuracy: 0.7911 - val_loss: 2.7370 - val_accuracy: 0.3342\n",
            "Epoch 13/15\n",
            "625/625 [==============================] - 18s 29ms/step - loss: 0.5092 - accuracy: 0.8045 - val_loss: 2.8798 - val_accuracy: 0.3370\n",
            "Epoch 14/15\n",
            "625/625 [==============================] - 18s 29ms/step - loss: 0.4757 - accuracy: 0.8187 - val_loss: 2.8461 - val_accuracy: 0.3564\n",
            "Epoch 15/15\n",
            "625/625 [==============================] - 18s 29ms/step - loss: 0.4271 - accuracy: 0.8375 - val_loss: 2.9292 - val_accuracy: 0.3510\n"
          ]
        },
        {
          "output_type": "execute_result",
          "data": {
            "text/plain": [
              "<keras.callbacks.History at 0x7f195deac1c0>"
            ]
          },
          "metadata": {},
          "execution_count": 38
        }
      ]
    },
    {
      "cell_type": "code",
      "source": [
        "epochs = 15\n",
        "\n",
        "model_LSTM.fit(train_ds, validation_data=val_ds, epochs=epochs)"
      ],
      "metadata": {
        "colab": {
          "base_uri": "https://localhost:8080/"
        },
        "id": "RTo7vFJMlMA0",
        "outputId": "38bcf8b9-018e-4879-b2ab-c38aa4fe0b88"
      },
      "execution_count": null,
      "outputs": [
        {
          "output_type": "stream",
          "name": "stdout",
          "text": [
            "Epoch 1/15\n",
            "625/625 [==============================] - 31s 43ms/step - loss: 1.6991 - accuracy: 0.3490 - val_loss: 1.6433 - val_accuracy: 0.3716\n",
            "Epoch 2/15\n",
            "625/625 [==============================] - 25s 39ms/step - loss: 1.3888 - accuracy: 0.4534 - val_loss: 1.5814 - val_accuracy: 0.3806\n",
            "Epoch 3/15\n",
            "625/625 [==============================] - 25s 40ms/step - loss: 1.2193 - accuracy: 0.5178 - val_loss: 1.7299 - val_accuracy: 0.3512\n",
            "Epoch 4/15\n",
            "625/625 [==============================] - 25s 40ms/step - loss: 1.0600 - accuracy: 0.5882 - val_loss: 1.8084 - val_accuracy: 0.3446\n",
            "Epoch 5/15\n",
            "625/625 [==============================] - 24s 39ms/step - loss: 0.8776 - accuracy: 0.6742 - val_loss: 2.0056 - val_accuracy: 0.3162\n",
            "Epoch 6/15\n",
            "625/625 [==============================] - 25s 40ms/step - loss: 0.6862 - accuracy: 0.7574 - val_loss: 2.3052 - val_accuracy: 0.3234\n",
            "Epoch 7/15\n",
            "625/625 [==============================] - 25s 40ms/step - loss: 0.5345 - accuracy: 0.8218 - val_loss: 2.5206 - val_accuracy: 0.3328\n",
            "Epoch 8/15\n",
            "625/625 [==============================] - 25s 40ms/step - loss: 0.4113 - accuracy: 0.8674 - val_loss: 2.7180 - val_accuracy: 0.3278\n",
            "Epoch 9/15\n",
            "625/625 [==============================] - 25s 39ms/step - loss: 0.2882 - accuracy: 0.9122 - val_loss: 3.0178 - val_accuracy: 0.3180\n",
            "Epoch 10/15\n",
            "625/625 [==============================] - 25s 39ms/step - loss: 0.2070 - accuracy: 0.9365 - val_loss: 3.2256 - val_accuracy: 0.3292\n",
            "Epoch 11/15\n",
            "625/625 [==============================] - 25s 40ms/step - loss: 0.1622 - accuracy: 0.9517 - val_loss: 3.4330 - val_accuracy: 0.3364\n",
            "Epoch 12/15\n",
            "625/625 [==============================] - 25s 40ms/step - loss: 0.1400 - accuracy: 0.9584 - val_loss: 3.6258 - val_accuracy: 0.3238\n",
            "Epoch 13/15\n",
            "625/625 [==============================] - 24s 39ms/step - loss: 0.1086 - accuracy: 0.9694 - val_loss: 3.7411 - val_accuracy: 0.3166\n",
            "Epoch 14/15\n",
            "625/625 [==============================] - 25s 39ms/step - loss: 0.0843 - accuracy: 0.9762 - val_loss: 3.8910 - val_accuracy: 0.3210\n",
            "Epoch 15/15\n",
            "625/625 [==============================] - 25s 41ms/step - loss: 0.0785 - accuracy: 0.9779 - val_loss: 4.0719 - val_accuracy: 0.3228\n"
          ]
        },
        {
          "output_type": "execute_result",
          "data": {
            "text/plain": [
              "<keras.callbacks.History at 0x7f195b4bb760>"
            ]
          },
          "metadata": {},
          "execution_count": 39
        }
      ]
    },
    {
      "cell_type": "markdown",
      "source": [
        "Можной увидеть что для всех моделей с каждой эпохой падает val_accuracy и увеличивается val_loss, при обратном эффекте для accuracy и loss, что говорит о переобучении моделей."
      ],
      "metadata": {
        "id": "HmiWozWqWcMK"
      }
    },
    {
      "cell_type": "markdown",
      "metadata": {
        "id": "BRis13fMr3Lu"
      },
      "source": [
        "## 6. Оценка моделей"
      ]
    },
    {
      "cell_type": "code",
      "execution_count": null,
      "metadata": {
        "colab": {
          "base_uri": "https://localhost:8080/"
        },
        "id": "LzN-q4Jhr3Lu",
        "outputId": "779ff59a-548d-4902-d4d8-a02946c630ad"
      },
      "outputs": [
        {
          "output_type": "stream",
          "name": "stdout",
          "text": [
            "782/782 [==============================] - 6s 7ms/step - loss: 4.4273 - accuracy: 0.3440\n"
          ]
        },
        {
          "output_type": "execute_result",
          "data": {
            "text/plain": [
              "[4.427250862121582, 0.3439599871635437]"
            ]
          },
          "metadata": {},
          "execution_count": 40
        }
      ],
      "source": [
        "model_conv.evaluate(test_ds)"
      ]
    },
    {
      "cell_type": "code",
      "source": [
        "model_LSTM2.evaluate(test_ds)"
      ],
      "metadata": {
        "colab": {
          "base_uri": "https://localhost:8080/"
        },
        "id": "5-RjrtrCv-FP",
        "outputId": "fc5e0d92-03c2-4a0c-f8c7-60103aa59363"
      },
      "execution_count": null,
      "outputs": [
        {
          "output_type": "stream",
          "name": "stdout",
          "text": [
            "782/782 [==============================] - 15s 19ms/step - loss: 6.1816 - accuracy: 0.3658\n"
          ]
        },
        {
          "output_type": "execute_result",
          "data": {
            "text/plain": [
              "[6.181572437286377, 0.36583998799324036]"
            ]
          },
          "metadata": {},
          "execution_count": 48
        }
      ]
    },
    {
      "cell_type": "code",
      "source": [
        "model_bi.evaluate(test_ds)"
      ],
      "metadata": {
        "colab": {
          "base_uri": "https://localhost:8080/"
        },
        "id": "zp_eByMtxKn3",
        "outputId": "826d943d-3b72-4b79-de89-a5c5a690fa37"
      },
      "execution_count": null,
      "outputs": [
        {
          "output_type": "stream",
          "name": "stdout",
          "text": [
            "782/782 [==============================] - 9s 12ms/step - loss: 3.1960 - accuracy: 0.3191\n"
          ]
        },
        {
          "output_type": "execute_result",
          "data": {
            "text/plain": [
              "[3.195984125137329, 0.31911998987197876]"
            ]
          },
          "metadata": {},
          "execution_count": 45
        }
      ]
    },
    {
      "cell_type": "code",
      "source": [
        "model_LSTM.evaluate(test_ds)"
      ],
      "metadata": {
        "colab": {
          "base_uri": "https://localhost:8080/"
        },
        "id": "9HftSLVYmrI7",
        "outputId": "f2294204-0019-482a-e478-f46925714b89"
      },
      "execution_count": null,
      "outputs": [
        {
          "output_type": "stream",
          "name": "stdout",
          "text": [
            "782/782 [==============================] - 12s 15ms/step - loss: 4.3684 - accuracy: 0.3100\n"
          ]
        },
        {
          "output_type": "execute_result",
          "data": {
            "text/plain": [
              "[4.368371486663818, 0.3100000023841858]"
            ]
          },
          "metadata": {},
          "execution_count": 46
        }
      ]
    },
    {
      "cell_type": "markdown",
      "source": [
        "Самая высокая точность оказалось у LSTM2 модели - 0.3658, но у нее и самая большая потеря 6.1816\n",
        "При всем этом точность всех моделей оказывается сравнительно маленькой ≈ 0.35, \n",
        "что говорито необходимости доработки, хотя это и выше случайного предсказания в 0.125."
      ],
      "metadata": {
        "id": "Yqjq6UR7XBIP"
      }
    },
    {
      "cell_type": "markdown",
      "metadata": {
        "id": "3_OjCFror3Lu"
      },
      "source": [
        "## 7. Создание end-to-end моделей и сохранение\n",
        "\n",
        "Для удобства развертывания сохраним end-to-end модели."
      ]
    },
    {
      "cell_type": "code",
      "execution_count": null,
      "metadata": {
        "colab": {
          "base_uri": "https://localhost:8080/"
        },
        "id": "gZI5P-bLr3Lu",
        "outputId": "8e1d96f9-6e35-4cee-d6e1-8d7844dee6e6"
      },
      "outputs": [
        {
          "output_type": "stream",
          "name": "stdout",
          "text": [
            "782/782 [==============================] - 20s 24ms/step - loss: 6.5575 - accuracy: 0.3658\n"
          ]
        },
        {
          "output_type": "execute_result",
          "data": {
            "text/plain": [
              "[6.557531833648682, 0.36583998799324036]"
            ]
          },
          "metadata": {},
          "execution_count": 49
        }
      ],
      "source": [
        "#LSTM2 end-to-end \n",
        "inputs = tf.keras.Input(shape=(1,), dtype=\"string\")\n",
        "indices = vectorize_layer(inputs)\n",
        "outputs = model_LSTM2(indices)\n",
        "\n",
        "end_to_end_model = tf.keras.Model(inputs, outputs)\n",
        "end_to_end_model.compile(\n",
        "    loss='sparse_categorical_crossentropy', optimizer=\"adam\", metrics=[\"accuracy\"]\n",
        ")\n",
        "\n",
        "end_to_end_model.evaluate(raw_test_ds)"
      ]
    },
    {
      "cell_type": "code",
      "source": [
        "end_to_end_model.save(\"end_to_end_model\") #LSTM2 model"
      ],
      "metadata": {
        "colab": {
          "base_uri": "https://localhost:8080/"
        },
        "id": "ELprQSTIpTye",
        "outputId": "b1df03ca-ea58-4d1e-ebc4-9a74d7418309"
      },
      "execution_count": null,
      "outputs": [
        {
          "output_type": "stream",
          "name": "stderr",
          "text": [
            "WARNING:absl:Found untraced functions such as lstm_cell_4_layer_call_fn, lstm_cell_4_layer_call_and_return_conditional_losses, lstm_cell_5_layer_call_fn, lstm_cell_5_layer_call_and_return_conditional_losses while saving (showing 4 of 4). These functions will not be directly callable after loading.\n"
          ]
        }
      ]
    },
    {
      "cell_type": "code",
      "source": [
        "reconstructed_model = tf.keras.models.load_model('end_to_end_model') #LSTM2 model"
      ],
      "metadata": {
        "id": "5vQVRtYky7vO"
      },
      "execution_count": null,
      "outputs": []
    },
    {
      "cell_type": "code",
      "source": [
        "shutil.make_archive('end_to_end_model', 'zip', 'end_to_end_model')"
      ],
      "metadata": {
        "id": "rEDxYh5g_lGj"
      },
      "execution_count": null,
      "outputs": []
    },
    {
      "cell_type": "code",
      "source": [
        "#conv end-to-end \n",
        "inputs = tf.keras.Input(shape=(1,), dtype=\"string\")\n",
        "indices = vectorize_layer(inputs)\n",
        "outputs = model_conv(indices)\n",
        "\n",
        "end_to_end_model_conv = tf.keras.Model(inputs, outputs)\n",
        "end_to_end_model_conv.compile(\n",
        "    loss='sparse_categorical_crossentropy', optimizer=\"adam\", metrics=[\"accuracy\"]\n",
        ")"
      ],
      "metadata": {
        "id": "T9oSFtDX-uGG"
      },
      "execution_count": null,
      "outputs": []
    },
    {
      "cell_type": "code",
      "source": [
        "end_to_end_model_conv.save(\"end_to_end_model_conv\") #conv model"
      ],
      "metadata": {
        "colab": {
          "base_uri": "https://localhost:8080/"
        },
        "id": "HWOxkh9V-uJM",
        "outputId": "f18f2939-b06b-4454-ce06-173ccced4348"
      },
      "execution_count": null,
      "outputs": [
        {
          "output_type": "stream",
          "name": "stderr",
          "text": [
            "WARNING:absl:Found untraced functions such as _jit_compiled_convolution_op, _jit_compiled_convolution_op while saving (showing 2 of 2). These functions will not be directly callable after loading.\n"
          ]
        }
      ]
    },
    {
      "cell_type": "code",
      "source": [
        "reconstructed_model = tf.keras.models.load_model('end_to_end_model_conv') #conv model"
      ],
      "metadata": {
        "id": "OaNv_kZS-uM0"
      },
      "execution_count": null,
      "outputs": []
    },
    {
      "cell_type": "code",
      "source": [
        "shutil.make_archive('end_to_end_model_conv', 'zip', 'end_to_end_model_conv')"
      ],
      "metadata": {
        "colab": {
          "base_uri": "https://localhost:8080/",
          "height": 36
        },
        "id": "y2SKxGhB_jtm",
        "outputId": "10ef50a1-2f13-4371-c608-0dd946a30c14"
      },
      "execution_count": null,
      "outputs": [
        {
          "output_type": "execute_result",
          "data": {
            "text/plain": [
              "'/content/end_to_end_model_conv.zip'"
            ],
            "application/vnd.google.colaboratory.intrinsic+json": {
              "type": "string"
            }
          },
          "metadata": {},
          "execution_count": 44
        }
      ]
    },
    {
      "cell_type": "code",
      "source": [
        "# bi end-to-end\n",
        "inputs = tf.keras.Input(shape=(1,), dtype=\"string\")\n",
        "indices = vectorize_layer(inputs)\n",
        "outputs = model_bi(indices)\n",
        "\n",
        "end_to_end_model_bi = tf.keras.Model(inputs, outputs)\n",
        "end_to_end_model_bi.compile(\n",
        "    loss='sparse_categorical_crossentropy', optimizer=\"adam\", metrics=[\"accuracy\"]\n",
        ")"
      ],
      "metadata": {
        "id": "IWtTR95F_OlV"
      },
      "execution_count": null,
      "outputs": []
    },
    {
      "cell_type": "code",
      "source": [
        "end_to_end_model_bi.save(\"end_to_end_model_bi\") #bi model"
      ],
      "metadata": {
        "colab": {
          "base_uri": "https://localhost:8080/"
        },
        "id": "xRNmOMXu_OlW",
        "outputId": "b651a0fc-ffe3-4871-9007-fcef938d9ca7"
      },
      "execution_count": null,
      "outputs": [
        {
          "output_type": "stream",
          "name": "stderr",
          "text": [
            "WARNING:absl:Found untraced functions such as _jit_compiled_convolution_op, lstm_cell_3_layer_call_fn, lstm_cell_3_layer_call_and_return_conditional_losses, lstm_cell_4_layer_call_fn, lstm_cell_4_layer_call_and_return_conditional_losses while saving (showing 5 of 5). These functions will not be directly callable after loading.\n"
          ]
        }
      ]
    },
    {
      "cell_type": "code",
      "source": [
        "reconstructed_model = tf.keras.models.load_model('end_to_end_model_bi') #bi model"
      ],
      "metadata": {
        "id": "7mI-kQyb_OlW"
      },
      "execution_count": null,
      "outputs": []
    },
    {
      "cell_type": "code",
      "source": [
        "shutil.make_archive('end_to_end_model_bi', 'zip', 'end_to_end_model_bi')"
      ],
      "metadata": {
        "colab": {
          "base_uri": "https://localhost:8080/",
          "height": 36
        },
        "id": "3wbGdIfv_7KY",
        "outputId": "b030b026-8def-4b01-b957-f0630e6b6ba6"
      },
      "execution_count": null,
      "outputs": [
        {
          "output_type": "execute_result",
          "data": {
            "text/plain": [
              "'/content/end_to_end_model_bi.zip'"
            ],
            "application/vnd.google.colaboratory.intrinsic+json": {
              "type": "string"
            }
          },
          "metadata": {},
          "execution_count": 48
        }
      ]
    },
    {
      "cell_type": "code",
      "source": [
        "# LSTM end-to-end\n",
        "inputs = tf.keras.Input(shape=(1,), dtype=\"string\")\n",
        "indices = vectorize_layer(inputs)\n",
        "outputs = model_LSTM(indices)\n",
        "\n",
        "end_to_end_model_LSTM = tf.keras.Model(inputs, outputs)\n",
        "end_to_end_model_LSTM.compile(\n",
        "    loss='sparse_categorical_crossentropy', optimizer=\"adam\", metrics=[\"accuracy\"]\n",
        ")"
      ],
      "metadata": {
        "id": "8s9q5qvk_Qu2"
      },
      "execution_count": null,
      "outputs": []
    },
    {
      "cell_type": "code",
      "source": [
        "end_to_end_model_LSTM.save(\"end_to_end_model_LSTM\") #LSTM model"
      ],
      "metadata": {
        "colab": {
          "base_uri": "https://localhost:8080/"
        },
        "id": "yHPs6YYE_Qu3",
        "outputId": "75d11235-6275-49cf-bb0e-eb43ef7a7d58"
      },
      "execution_count": null,
      "outputs": [
        {
          "output_type": "stream",
          "name": "stderr",
          "text": [
            "WARNING:absl:Found untraced functions such as lstm_cell_6_layer_call_fn, lstm_cell_6_layer_call_and_return_conditional_losses, lstm_cell_7_layer_call_fn, lstm_cell_7_layer_call_and_return_conditional_losses while saving (showing 4 of 4). These functions will not be directly callable after loading.\n"
          ]
        }
      ]
    },
    {
      "cell_type": "code",
      "source": [
        "reconstructed_model = tf.keras.models.load_model('end_to_end_model_LSTM') #LSTM model"
      ],
      "metadata": {
        "id": "2URv1J7U_Qu3"
      },
      "execution_count": null,
      "outputs": []
    },
    {
      "cell_type": "code",
      "source": [
        "shutil.make_archive('end_to_end_model_LSTM', 'zip', 'end_to_end_model_LSTM')"
      ],
      "metadata": {
        "colab": {
          "base_uri": "https://localhost:8080/",
          "height": 36
        },
        "id": "sHhdju_2_LHl",
        "outputId": "c0d3fc2b-f722-4980-96cf-36de858b262e"
      },
      "execution_count": null,
      "outputs": [
        {
          "output_type": "execute_result",
          "data": {
            "text/plain": [
              "'/content/end_to_end_model_LSTM.zip'"
            ],
            "application/vnd.google.colaboratory.intrinsic+json": {
              "type": "string"
            }
          },
          "metadata": {},
          "execution_count": 52
        }
      ]
    },
    {
      "cell_type": "markdown",
      "source": [
        "# 8. Проверка предсказания модели\n",
        "Здесь проверим работоспособность LSTM2 модели"
      ],
      "metadata": {
        "id": "m64pvbkiAuUm"
      }
    },
    {
      "cell_type": "code",
      "source": [
        "# текст\n",
        "text_list = ['i like it!',\n",
        "        'very good film',\n",
        "        \"bad film, don't like not interesting\"]"
      ],
      "metadata": {
        "id": "jxOfTAr_dTLy"
      },
      "execution_count": null,
      "outputs": []
    },
    {
      "cell_type": "code",
      "execution_count": null,
      "metadata": {
        "id": "jOCmiuSS_iaj"
      },
      "outputs": [],
      "source": [
        "# функция очистки\n",
        "def clean_text(text):\n",
        "  text, _ = remove_stopwords(text, 1)\n",
        "  text, _ = remove_tags(text, 1)\n",
        "  text, _ = remove_punctuations(text, 1)\n",
        "  text, _ = remove_html(text, 1)\n",
        "  text, _ = remove_url(text, 1)\n",
        "  text, _ = remove_abb(text, 1)\n",
        "  return bytes.decode(text.numpy())"
      ]
    },
    {
      "cell_type": "code",
      "execution_count": null,
      "metadata": {
        "colab": {
          "base_uri": "https://localhost:8080/"
        },
        "id": "7Zx-AnaMAsS2",
        "outputId": "6ea46c98-9879-4992-f5ce-2fadcb936be7"
      },
      "outputs": [
        {
          "output_type": "execute_result",
          "data": {
            "text/plain": [
              "['like ', 'good film', 'bad film like interesting']"
            ]
          },
          "metadata": {},
          "execution_count": 46
        }
      ],
      "source": [
        "# отзывы после отчистки\n",
        "inp = list(map(clean_text, text_list))\n",
        "inp"
      ]
    },
    {
      "cell_type": "code",
      "execution_count": null,
      "metadata": {
        "colab": {
          "base_uri": "https://localhost:8080/"
        },
        "id": "LBhwhoPk8-fx",
        "outputId": "78309e35-2130-4855-fc38-787bd190bb8c"
      },
      "outputs": [
        {
          "output_type": "stream",
          "name": "stdout",
          "text": [
            "1/1 [==============================] - 0s 54ms/step\n"
          ]
        }
      ],
      "source": [
        "# предсказание на неочищенных отзывах\n",
        "pred = end_to_end_model.predict(['good very good film'])"
      ]
    },
    {
      "cell_type": "code",
      "execution_count": null,
      "metadata": {
        "colab": {
          "base_uri": "https://localhost:8080/"
        },
        "id": "GYDLfTTK9U78",
        "outputId": "d3fb9d1b-c0bc-48f0-d782-335a6029e51d"
      },
      "outputs": [
        {
          "output_type": "stream",
          "name": "stdout",
          "text": [
            "Rating: 9\n"
          ]
        }
      ],
      "source": [
        "for i in pred:\n",
        "  print('Rating:', labels_dict[int(tf.math.argmax(i))])"
      ]
    },
    {
      "cell_type": "markdown",
      "source": [
        "# 9. Выводы простых моделей.\n",
        "Как и говорилось ранее точность моделей получилась низкая, для ее дальнейшего улучшения предлагается использовать: </br>\n",
        "дополнительные данные с рейтингом 5 и 6 звезд,\n",
        "анализ n-грамм, удалять не все стоп-слова, использовать word2vec векторизацию, применить предобученную модель BERT. </br>\n",
        "Помимо этого считаю необходимым использовать регрессию вместо классификации, так как accuracy не дает понимания близости предсказанного отзыва к правильному (например ошибка в одну, пол звезды), что можно отследить используя MSE/RMSE. "
      ],
      "metadata": {
        "id": "t-A0Afa4bOfm"
      }
    },
    {
      "cell_type": "markdown",
      "metadata": {
        "id": "OgVP4d-WXMLn"
      },
      "source": [
        "## 10. Использование предобученной BERT модели\n",
        "Здесь мы изменим только модель и воспользуемся возможностями предобученной модели BERT построенной на трансформере"
      ]
    },
    {
      "cell_type": "markdown",
      "source": [
        "Установка и импорт дополнительных библиотек"
      ],
      "metadata": {
        "id": "cPWkG_9hhowG"
      }
    },
    {
      "cell_type": "code",
      "source": [
        "!pip install tensorflow==2.11.0"
      ],
      "metadata": {
        "id": "3GplI6HEhUdV"
      },
      "execution_count": null,
      "outputs": []
    },
    {
      "cell_type": "code",
      "execution_count": null,
      "metadata": {
        "colab": {
          "base_uri": "https://localhost:8080/"
        },
        "id": "uMj3URH3XM2Y",
        "outputId": "bcb50592-e0f7-41ca-dbab-27d992576c60"
      },
      "outputs": [
        {
          "output_type": "stream",
          "name": "stdout",
          "text": [
            "\u001b[2K     \u001b[90m━━━━━━━━━━━━━━━━━━━━━━━━━━━━━━━━━━━━━━━━\u001b[0m \u001b[32m5.8/5.8 MB\u001b[0m \u001b[31m28.9 MB/s\u001b[0m eta \u001b[36m0:00:00\u001b[0m\n",
            "\u001b[?25h"
          ]
        }
      ],
      "source": [
        "!pip install -q -U \"tensorflow-text==2.11.*\""
      ]
    },
    {
      "cell_type": "code",
      "execution_count": null,
      "metadata": {
        "colab": {
          "base_uri": "https://localhost:8080/"
        },
        "id": "8_WvyD83XQri",
        "outputId": "17eb1c23-5556-466e-9cee-a6c5ec37258c"
      },
      "outputs": [
        {
          "output_type": "stream",
          "name": "stdout",
          "text": [
            "\u001b[2K     \u001b[90m━━━━━━━━━━━━━━━━━━━━━━━━━━━━━━━━━━━━━━━━\u001b[0m \u001b[32m2.3/2.3 MB\u001b[0m \u001b[31m39.6 MB/s\u001b[0m eta \u001b[36m0:00:00\u001b[0m\n",
            "\u001b[2K     \u001b[90m━━━━━━━━━━━━━━━━━━━━━━━━━━━━━━━━━━━━━━\u001b[0m \u001b[32m238.9/238.9 KB\u001b[0m \u001b[31m23.8 MB/s\u001b[0m eta \u001b[36m0:00:00\u001b[0m\n",
            "\u001b[2K     \u001b[90m━━━━━━━━━━━━━━━━━━━━━━━━━━━━━━━━━━━━━━\u001b[0m \u001b[32m662.4/662.4 KB\u001b[0m \u001b[31m42.6 MB/s\u001b[0m eta \u001b[36m0:00:00\u001b[0m\n",
            "\u001b[2K     \u001b[90m━━━━━━━━━━━━━━━━━━━━━━━━━━━━━━━━━━━━━━\u001b[0m \u001b[32m352.1/352.1 KB\u001b[0m \u001b[31m38.5 MB/s\u001b[0m eta \u001b[36m0:00:00\u001b[0m\n",
            "\u001b[2K     \u001b[90m━━━━━━━━━━━━━━━━━━━━━━━━━━━━━━━━━━━━━━━━\u001b[0m \u001b[32m38.2/38.2 MB\u001b[0m \u001b[31m17.9 MB/s\u001b[0m eta \u001b[36m0:00:00\u001b[0m\n",
            "\u001b[2K     \u001b[90m━━━━━━━━━━━━━━━━━━━━━━━━━━━━━━━━━━━━━━━━\u001b[0m \u001b[32m43.6/43.6 KB\u001b[0m \u001b[31m5.9 MB/s\u001b[0m eta \u001b[36m0:00:00\u001b[0m\n",
            "\u001b[?25h  Preparing metadata (setup.py) ... \u001b[?25l\u001b[?25hdone\n",
            "\u001b[2K     \u001b[90m━━━━━━━━━━━━━━━━━━━━━━━━━━━━━━━━━━━━━━\u001b[0m \u001b[32m118.9/118.9 KB\u001b[0m \u001b[31m15.0 MB/s\u001b[0m eta \u001b[36m0:00:00\u001b[0m\n",
            "\u001b[2K     \u001b[90m━━━━━━━━━━━━━━━━━━━━━━━━━━━━━━━━━━━━━━━━\u001b[0m \u001b[32m1.3/1.3 MB\u001b[0m \u001b[31m61.1 MB/s\u001b[0m eta \u001b[36m0:00:00\u001b[0m\n",
            "\u001b[2K     \u001b[90m━━━━━━━━━━━━━━━━━━━━━━━━━━━━━━━━━━━━━━━━\u001b[0m \u001b[32m1.1/1.1 MB\u001b[0m \u001b[31m22.4 MB/s\u001b[0m eta \u001b[36m0:00:00\u001b[0m\n",
            "\u001b[?25h  Building wheel for seqeval (setup.py) ... \u001b[?25l\u001b[?25hdone\n"
          ]
        }
      ],
      "source": [
        "!pip install -q tf-models-official==2.11.0"
      ]
    },
    {
      "cell_type": "code",
      "execution_count": null,
      "metadata": {
        "colab": {
          "base_uri": "https://localhost:8080/"
        },
        "id": "9XuR3wP10-a4",
        "outputId": "2d2e3283-20fb-4c08-a976-f6fa0917df99"
      },
      "outputs": [
        {
          "output_type": "stream",
          "name": "stdout",
          "text": [
            "Looking in indexes: https://pypi.org/simple, https://us-python.pkg.dev/colab-wheels/public/simple/\n",
            "Requirement already satisfied: tensorflow_hub in /usr/local/lib/python3.8/dist-packages (0.12.0)\n",
            "Requirement already satisfied: numpy>=1.12.0 in /usr/local/lib/python3.8/dist-packages (from tensorflow_hub) (1.22.4)\n",
            "Requirement already satisfied: protobuf>=3.8.0 in /usr/local/lib/python3.8/dist-packages (from tensorflow_hub) (3.19.6)\n"
          ]
        }
      ],
      "source": [
        "!pip install tensorflow_hub"
      ]
    },
    {
      "cell_type": "code",
      "source": [
        "import tensorflow as tf\n",
        "import tensorflow_hub as hub\n",
        "import tensorflow_text as text\n",
        "from official.nlp import optimization"
      ],
      "metadata": {
        "id": "SvKJjxBihEMW"
      },
      "execution_count": null,
      "outputs": []
    },
    {
      "cell_type": "markdown",
      "source": [
        "Воспользуемся вариантом talking-heads_base encoder и соотетствующим ему препроцессоре"
      ],
      "metadata": {
        "id": "2AlWp_AEh6bY"
      }
    },
    {
      "cell_type": "code",
      "execution_count": null,
      "metadata": {
        "id": "ET6m596xXQyl"
      },
      "outputs": [],
      "source": [
        "bert_model_name = 'talking-heads_base'\n",
        "tfhub_handle_encoder = 'https://tfhub.dev/tensorflow/talkheads_ggelu_bert_en_base/1'\n",
        "tfhub_handle_preprocess = 'https://tfhub.dev/tensorflow/bert_en_uncased_preprocess/3'"
      ]
    },
    {
      "cell_type": "markdown",
      "source": [
        "Проверим как действуют препроцессор и энкодер"
      ],
      "metadata": {
        "id": "cAxsIM8KiMfw"
      }
    },
    {
      "cell_type": "code",
      "execution_count": null,
      "metadata": {
        "id": "KgDx6QPdXQ18"
      },
      "outputs": [],
      "source": [
        "bert_preprocess_model = hub.KerasLayer(tfhub_handle_preprocess)"
      ]
    },
    {
      "cell_type": "code",
      "execution_count": null,
      "metadata": {
        "colab": {
          "base_uri": "https://localhost:8080/"
        },
        "id": "Dx2eNHqxXQ5K",
        "outputId": "a558d554-dbfd-4e58-d1cb-c71286ae93f3"
      },
      "outputs": [
        {
          "output_type": "stream",
          "name": "stdout",
          "text": [
            "Keys       : ['input_mask', 'input_word_ids', 'input_type_ids']\n",
            "Shape      : (1, 128)\n",
            "Word Ids   : [ 101 2023 2003 2107 2019 6429 3185  999  102    0    0    0]\n",
            "Input Mask : [1 1 1 1 1 1 1 1 1 0 0 0]\n",
            "Type Ids   : [0 0 0 0 0 0 0 0 0 0 0 0]\n"
          ]
        }
      ],
      "source": [
        "text_test = ['this is such an amazing movie!']\n",
        "text_preprocessed = bert_preprocess_model(text_test)\n",
        "\n",
        "print(f'Keys       : {list(text_preprocessed.keys())}')\n",
        "print(f'Shape      : {text_preprocessed[\"input_word_ids\"].shape}')\n",
        "print(f'Word Ids   : {text_preprocessed[\"input_word_ids\"][0, :12]}')\n",
        "print(f'Input Mask : {text_preprocessed[\"input_mask\"][0, :12]}')\n",
        "print(f'Type Ids   : {text_preprocessed[\"input_type_ids\"][0, :12]}')"
      ]
    },
    {
      "cell_type": "code",
      "execution_count": null,
      "metadata": {
        "id": "5ksruaNaXQ8z"
      },
      "outputs": [],
      "source": [
        "bert_model = hub.KerasLayer(tfhub_handle_encoder)"
      ]
    },
    {
      "cell_type": "code",
      "execution_count": null,
      "metadata": {
        "colab": {
          "base_uri": "https://localhost:8080/"
        },
        "id": "nDUhhbuYX6e4",
        "outputId": "05efba25-a8a0-45c9-d40e-e66b12982a80"
      },
      "outputs": [
        {
          "output_type": "stream",
          "name": "stdout",
          "text": [
            "Loaded BERT: https://tfhub.dev/tensorflow/talkheads_ggelu_bert_en_base/1\n",
            "Pooled Outputs Shape:(1, 768)\n",
            "Pooled Outputs Values:[ 0.04164823 -0.16072084 -0.16938786 -0.14112622 -0.4564236  -0.3629583\n",
            "  0.00949449 -0.38472784 -0.37134975  0.3133377  -0.4287782  -0.10479412]\n",
            "Sequence Outputs Shape:(1, 128, 768)\n",
            "Sequence Outputs Values:[[ 0.13529712  1.0244596   0.3802941  ... -0.37565243 -1.1732501\n",
            "  -0.28629497]\n",
            " [ 0.5394494   0.00559767 -0.4814456  ... -0.13281812 -0.1544642\n",
            "   0.08407846]\n",
            " [-0.17764494  0.42034125 -0.85463417 ... -0.55584425  0.07440345\n",
            "  -0.12776999]\n",
            " ...\n",
            " [-0.3672859  -1.3684146  -1.4262097  ... -0.0726788  -0.12514548\n",
            "   0.37932378]\n",
            " [-0.390374   -1.3010331  -1.4451113  ...  0.05920417 -0.11835855\n",
            "   0.3479999 ]\n",
            " [ 0.4895529  -1.0587397  -1.2525872  ... -0.7043437   0.14188947\n",
            "   0.2320122 ]]\n"
          ]
        }
      ],
      "source": [
        "bert_results = bert_model(text_preprocessed)\n",
        "\n",
        "print(f'Loaded BERT: {tfhub_handle_encoder}')\n",
        "print(f'Pooled Outputs Shape:{bert_results[\"pooled_output\"].shape}')\n",
        "print(f'Pooled Outputs Values:{bert_results[\"pooled_output\"][0, :12]}')\n",
        "print(f'Sequence Outputs Shape:{bert_results[\"sequence_output\"].shape}')\n",
        "print(f'Sequence Outputs Values:{bert_results[\"sequence_output\"][0, :12]}')"
      ]
    },
    {
      "cell_type": "markdown",
      "source": [
        "Построим модель talking-heads"
      ],
      "metadata": {
        "id": "Mg39_pZZidaW"
      }
    },
    {
      "cell_type": "code",
      "execution_count": null,
      "metadata": {
        "id": "P7H93TY3X6im"
      },
      "outputs": [],
      "source": [
        "def build_classifier_model():\n",
        "    text_input = tf.keras.layers.Input(shape=(), dtype=tf.string, name='text')\n",
        "    preprocessing_layer = hub.KerasLayer(tfhub_handle_preprocess, name='preprocessing')\n",
        "    encoder_inputs = preprocessing_layer(text_input)\n",
        "\n",
        "    encoder = hub.KerasLayer(tfhub_handle_encoder, trainable=True, name='BERT_encoder')\n",
        "    outputs = encoder(encoder_inputs)\n",
        "    net = outputs['pooled_output']\n",
        "    net = tf.keras.layers.Dropout(0.1)(net)\n",
        "    net = tf.keras.layers.Dense(8, activation=\"softmax\", name='classifier')(net)\n",
        "\n",
        "    return tf.keras.Model(text_input, net)"
      ]
    },
    {
      "cell_type": "code",
      "execution_count": null,
      "metadata": {
        "colab": {
          "base_uri": "https://localhost:8080/"
        },
        "id": "cBVha44lX6nB",
        "outputId": "0bac4d8a-ca9c-4c5f-95b0-fe0a66ab5d5b"
      },
      "outputs": [
        {
          "output_type": "stream",
          "name": "stdout",
          "text": [
            "tf.Tensor(\n",
            "[[0.06446742 0.1159858  0.20228304 0.14269292 0.14144097 0.16322187\n",
            "  0.10113025 0.06877775]], shape=(1, 8), dtype=float32)\n"
          ]
        }
      ],
      "source": [
        "bert_model = build_classifier_model()\n",
        "bert_raw_result = bert_model(tf.constant(text_test))\n",
        "print(bert_raw_result)"
      ]
    },
    {
      "cell_type": "code",
      "execution_count": null,
      "metadata": {
        "colab": {
          "base_uri": "https://localhost:8080/",
          "height": 466
        },
        "id": "3xva-hUtX6o4",
        "outputId": "53253902-4cbb-41b2-e27f-11d42cb0857c"
      },
      "outputs": [
        {
          "output_type": "execute_result",
          "data": {
            "image/png": "[encoded data removed]",
            "text/plain": [
              "<IPython.core.display.Image object>"
            ]
          },
          "metadata": {},
          "execution_count": 41
        }
      ],
      "source": [
        "tf.keras.utils.plot_model(bert_model)"
      ]
    },
    {
      "cell_type": "markdown",
      "source": [
        "Скомпилируем модель задав гиперпараметры и обучим ее"
      ],
      "metadata": {
        "id": "6p7-_EAMjA-q"
      }
    },
    {
      "cell_type": "code",
      "execution_count": null,
      "metadata": {
        "id": "8Z0aE37IX6v6"
      },
      "outputs": [],
      "source": [
        "epochs = 5\n",
        "steps_per_epoch = tf.data.experimental.cardinality(train_ds).numpy()\n",
        "num_train_steps = steps_per_epoch * epochs\n",
        "num_warmup_steps = int(0.1*num_train_steps)\n",
        "\n",
        "init_lr = 3e-5\n",
        "optimizer = optimization.create_optimizer(init_lr=init_lr,\n",
        "                                          num_train_steps=num_train_steps,\n",
        "                                          num_warmup_steps=num_warmup_steps,\n",
        "                                          optimizer_type='adamw')"
      ]
    },
    {
      "cell_type": "code",
      "execution_count": null,
      "metadata": {
        "id": "LzCIS1uPX6z1"
      },
      "outputs": [],
      "source": [
        "bert_model.compile(optimizer=optimizer,\n",
        "                         loss='sparse_categorical_crossentropy',\n",
        "                         metrics=[\"accuracy\"])"
      ]
    },
    {
      "cell_type": "code",
      "execution_count": null,
      "metadata": {
        "colab": {
          "base_uri": "https://localhost:8080/"
        },
        "id": "46-F6ReRXRAa",
        "outputId": "4f2ee16d-8d4a-48aa-f813-675105cff71c"
      },
      "outputs": [
        {
          "output_type": "stream",
          "name": "stdout",
          "text": [
            "Epoch 1/5\n",
            "625/625 [==============================] - 867s 1s/step - loss: 1.6717 - accuracy: 0.3474 - val_loss: 1.4517 - val_accuracy: 0.4274\n",
            "Epoch 2/5\n",
            "625/625 [==============================] - 831s 1s/step - loss: 1.2977 - accuracy: 0.4780 - val_loss: 1.4844 - val_accuracy: 0.4468\n",
            "Epoch 3/5\n",
            "625/625 [==============================] - 845s 1s/step - loss: 1.0171 - accuracy: 0.5914 - val_loss: 1.6551 - val_accuracy: 0.4270\n",
            "Epoch 4/5\n",
            "625/625 [==============================] - 845s 1s/step - loss: 0.7553 - accuracy: 0.7054 - val_loss: 1.9156 - val_accuracy: 0.4148\n",
            "Epoch 5/5\n",
            "625/625 [==============================] - 832s 1s/step - loss: 0.5727 - accuracy: 0.7839 - val_loss: 2.0963 - val_accuracy: 0.4186\n"
          ]
        }
      ],
      "source": [
        "history = bert_model.fit(raw_train_ds,\n",
        "                               validation_data=raw_val_ds,\n",
        "                               epochs=epochs)"
      ]
    },
    {
      "cell_type": "markdown",
      "source": [
        "При 5 эпохах модель как и предыдущие начинает переобучаться. </br>\n",
        "Оценим модель\n"
      ],
      "metadata": {
        "id": "KsUdNHx_jgGw"
      }
    },
    {
      "cell_type": "code",
      "execution_count": null,
      "metadata": {
        "colab": {
          "base_uri": "https://localhost:8080/"
        },
        "id": "yz3Y9TM_e_CE",
        "outputId": "d4433098-7451-4577-8977-d336967da2a4"
      },
      "outputs": [
        {
          "name": "stdout",
          "output_type": "stream",
          "text": [
            "782/782 [==============================] - 101s 128ms/step - loss: 1.6138 - accuracy: 0.3978\n",
            "Loss: 1.6138099431991577\n",
            "Accuracy: 0.3978399932384491\n"
          ]
        }
      ],
      "source": [
        "loss, accuracy = bert_model.evaluate(raw_test_ds)\n",
        "\n",
        "print(f'Loss: {loss}')\n",
        "print(f'Accuracy: {accuracy}')"
      ]
    },
    {
      "cell_type": "code",
      "source": [
        "bert_model_json = bert_model.to_json()\n",
        "with open(\"bert_model.json\", \"w\") as json_file:\n",
        "    json_file.write(bert_model_json)\n",
        "# serialize weights to HDF5\n",
        "bert_model.save_weights(\"bert_model.h5\")\n",
        "print(\"Saved model to disk\")"
      ],
      "metadata": {
        "colab": {
          "base_uri": "https://localhost:8080/"
        },
        "id": "trtpeHsD2UUa",
        "outputId": "18e64678-e69c-4be1-f0dd-02c60909c7dd"
      },
      "execution_count": null,
      "outputs": [
        {
          "output_type": "stream",
          "name": "stdout",
          "text": [
            "Saved model to disk\n"
          ]
        }
      ]
    },
    {
      "cell_type": "code",
      "source": [
        "import pickle"
      ],
      "metadata": {
        "id": "ND2ezsI7G-Q8"
      },
      "execution_count": null,
      "outputs": []
    },
    {
      "cell_type": "code",
      "source": [
        "pickle.dump(bert_model, open('bert_model.pkl', 'wb'))"
      ],
      "metadata": {
        "id": "iEgGNIT0HAx4"
      },
      "execution_count": null,
      "outputs": []
    },
    {
      "cell_type": "markdown",
      "source": [
        "# 11. Вывод. </br>\n",
        "Изменение модели на предобученную модель BERT улучшило accuracy на ≈ 0.05 до 0.4, что сравнимо мало, поэтому необходимо производить дополнительную подготовку данных, а также добавить в датасет отзывы 5 и 6 звезд. "
      ],
      "metadata": {
        "id": "4miLxdk_j5iO"
      }
    },
    {
      "cell_type": "code",
      "source": [],
      "metadata": {
        "id": "cCR7td-yk8pn"
      },
      "execution_count": null,
      "outputs": []
    }
  ],
  "metadata": {
    "accelerator": "GPU",
    "colab": {
      "provenance": []
    },
    "kernelspec": {
      "display_name": "Python 3 (ipykernel)",
      "language": "python",
      "name": "python3"
    },
    "language_info": {
      "codemirror_mode": {
        "name": "ipython",
        "version": 3
      },
      "file_extension": ".py",
      "mimetype": "text/x-python",
      "name": "python",
      "nbconvert_exporter": "python",
      "pygments_lexer": "ipython3",
      "version": "3.9.7"
    }
  },
  "nbformat": 4,
  "nbformat_minor": 0
}