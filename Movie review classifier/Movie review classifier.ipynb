{
 "cells": [
  {
   "cell_type": "markdown",
   "metadata": {
    "id": "s_MYSo_ok8zw"
   },
   "source": [
    "# Классификация отзывов IMDB"
   ]
  },
  {
   "cell_type": "markdown",
   "metadata": {
    "id": "cCOGK-mkr3Ll"
   },
   "source": [
    "## Setup"
   ]
  },
  {
   "cell_type": "code",
   "execution_count": 1,
   "metadata": {
    "id": "3WS-dTrTr3Ll"
   },
   "outputs": [],
   "source": [
    "import tensorflow as tf\n",
    "import numpy as np\n",
    "import os\n",
    "from keras.utils import np_utils\n",
    "from tensorflow.keras.layers import Embedding, Conv1D, AveragePooling1D, Bidirectional, LSTM, Dense"
   ]
  },
  {
   "cell_type": "code",
   "execution_count": 2,
   "metadata": {
    "id": "ZrvLYRE3wPMd"
   },
   "outputs": [],
   "source": [
    "from tensorflow.keras.layers import TextVectorization\n",
    "import string\n",
    "import re\n",
    "from tensorflow.keras import layers"
   ]
  },
  {
   "cell_type": "code",
   "execution_count": 6,
   "metadata": {
    "id": "gLKRhZXJp1ig"
   },
   "outputs": [],
   "source": [
    "from collections import Counter\n",
    "import seaborn as sns\n",
    "import nltk\n",
    "from nltk.corpus import stopwords"
   ]
  },
  {
   "cell_type": "code",
   "execution_count": 5,
   "metadata": {},
   "outputs": [
    {
     "name": "stdout",
     "output_type": "stream",
     "text": [
      "Collecting nltk\n",
      "  Downloading nltk-3.8.1-py3-none-any.whl (1.5 MB)\n",
      "\u001b[K     |████████████████████████████████| 1.5 MB 26.4 MB/s eta 0:00:01\n",
      "\u001b[?25hRequirement already satisfied: regex>=2021.8.3 in /opt/conda/envs/Python-3.9/lib/python3.9/site-packages (from nltk) (2021.11.2)\n",
      "Requirement already satisfied: tqdm in /opt/conda/envs/Python-3.9/lib/python3.9/site-packages (from nltk) (4.62.3)\n",
      "Requirement already satisfied: click in /opt/conda/envs/Python-3.9/lib/python3.9/site-packages (from nltk) (8.0.4)\n",
      "Requirement already satisfied: joblib in /opt/conda/envs/Python-3.9/lib/python3.9/site-packages (from nltk) (0.17.0)\n",
      "Installing collected packages: nltk\n",
      "Successfully installed nltk-3.8.1\n",
      "Note: you may need to restart the kernel to use updated packages.\n"
     ]
    }
   ],
   "source": [
    "pip install nltk"
   ]
  },
  {
   "cell_type": "markdown",
   "metadata": {
    "id": "zoJVaGiwr3Ln"
   },
   "source": [
    "## Load the data: IMDB movie review sentiment classification\n",
    "\n",
    "Let's download the data and inspect its structure."
   ]
  },
  {
   "cell_type": "code",
   "execution_count": 4,
   "metadata": {
    "colab": {
     "base_uri": "https://localhost:8080/"
    },
    "id": "c-N9_VLgr3Ln",
    "outputId": "9e43194a-084d-4da9-8e02-40253782d740"
   },
   "outputs": [
    {
     "name": "stdout",
     "output_type": "stream",
     "text": [
      "  % Total    % Received % Xferd  Average Speed   Time    Time     Time  Current\n",
      "                                 Dload  Upload   Total   Spent    Left  Speed\n",
      "100 80.2M  100 80.2M    0     0  10.7M      0  0:00:07  0:00:07 --:--:-- 18.0M\n"
     ]
    }
   ],
   "source": [
    "!curl -O https://ai.stanford.edu/~amaas/data/sentiment/aclImdb_v1.tar.gz\n",
    "!tar -xf aclImdb_v1.tar.gz"
   ]
  },
  {
   "cell_type": "markdown",
   "metadata": {
    "id": "PPBLF6rqr3Lo"
   },
   "source": [
    "The `aclImdb` folder contains a `train` and `test` subfolder:"
   ]
  },
  {
   "cell_type": "code",
   "execution_count": 7,
   "metadata": {
    "colab": {
     "base_uri": "https://localhost:8080/"
    },
    "id": "sCClYoBVr3Lo",
    "outputId": "836c7037-a23d-4a84-8601-984fe9b15a84"
   },
   "outputs": [
    {
     "name": "stdout",
     "output_type": "stream",
     "text": [
      "imdbEr.txt  imdb.vocab\tREADME\ttest  train\r\n"
     ]
    }
   ],
   "source": [
    "!ls aclImdb"
   ]
  },
  {
   "cell_type": "code",
   "execution_count": 8,
   "metadata": {
    "colab": {
     "base_uri": "https://localhost:8080/"
    },
    "id": "eRcoHyCYr3Lo",
    "outputId": "49deb80f-369b-4e11-9db8-299f62ac576a"
   },
   "outputs": [
    {
     "name": "stdout",
     "output_type": "stream",
     "text": [
      "labeledBow.feat  neg  pos  urls_neg.txt  urls_pos.txt\r\n"
     ]
    }
   ],
   "source": [
    "!ls aclImdb/test"
   ]
  },
  {
   "cell_type": "code",
   "execution_count": 9,
   "metadata": {
    "colab": {
     "base_uri": "https://localhost:8080/"
    },
    "id": "tuiJd2UQr3Lp",
    "outputId": "64e58e3c-5fd8-47d0-84d3-82beb8b3b364"
   },
   "outputs": [
    {
     "name": "stdout",
     "output_type": "stream",
     "text": [
      "labeledBow.feat  pos\tunsupBow.feat  urls_pos.txt\r\n",
      "neg\t\t unsup\turls_neg.txt   urls_unsup.txt\r\n"
     ]
    }
   ],
   "source": [
    "!ls aclImdb/train"
   ]
  },
  {
   "cell_type": "markdown",
   "metadata": {
    "id": "-dOmRvn8r3Lp"
   },
   "source": [
    "The `aclImdb/train/pos` and `aclImdb/train/neg` folders contain text files, each of\n",
    " which represents one review (either positive or negative):"
   ]
  },
  {
   "cell_type": "code",
   "execution_count": 10,
   "metadata": {
    "colab": {
     "base_uri": "https://localhost:8080/"
    },
    "id": "0JVxBQN4r3Lp",
    "outputId": "9c4af4fe-cbfe-45ba-a751-b75298b35b89"
   },
   "outputs": [
    {
     "name": "stdout",
     "output_type": "stream",
     "text": [
      "Being an Austrian myself this has been a straight knock in my face. Fortunately I don't live nowhere near the place where this movie takes place but unfortunately it portrays everything that the rest of Austria hates about Viennese people (or people close to that region). And it is very easy to read that this is exactly the directors intention: to let your head sink into your hands and say \"Oh my god, how can THAT be possible!\". No, not with me, the (in my opinion) totally exaggerated uncensored swinger club scene is not necessary, I watch porn, sure, but in this context I was rather disgusted than put in the right context.<br /><br />This movie tells a story about how misled people who suffer from lack of education or bad company try to survive and live in a world of redundancy and boring horizons. A girl who is treated like a whore by her super-jealous boyfriend (and still keeps coming back), a female teacher who discovers her masochism by putting the life of her super-cruel \"lover\" on the line, an old couple who has an almost mathematical daily cycle (she is the \"official replacement\" of his ex wife), a couple that has just divorced and has the ex husband suffer under the acts of his former wife obviously having a relationship with her masseuse and finally a crazy hitchhiker who asks her drivers the most unusual questions and stretches their nerves by just being super-annoying.<br /><br />After having seen it you feel almost nothing. You're not even shocked, sad, depressed or feel like doing anything... Maybe that's why I gave it 7 points, it made me react in a way I never reacted before. If that's good or bad is up to you!"
     ]
    }
   ],
   "source": [
    "!cat aclImdb/train/pos/6248_7.txt"
   ]
  },
  {
   "cell_type": "markdown",
   "metadata": {
    "id": "GqUY__02r3Lq"
   },
   "source": [
    "We are only interested in the `pos` and `neg` subfolders, so let's delete the rest:"
   ]
  },
  {
   "cell_type": "code",
   "execution_count": 11,
   "metadata": {
    "id": "jkwqvShCr3Lq"
   },
   "outputs": [],
   "source": [
    "!rm -r aclImdb/train/unsup"
   ]
  },
  {
   "cell_type": "code",
   "execution_count": 12,
   "metadata": {
    "colab": {
     "base_uri": "https://localhost:8080/",
     "height": 189
    },
    "id": "5A8X8CwGRhUe",
    "outputId": "33ec745c-8bcc-4253-b7ff-4bca4335f865"
   },
   "outputs": [],
   "source": [
    "for dir in range (8):\n",
    "    os.mkdir(f'aclImdb/train/{dir}')"
   ]
  },
  {
   "cell_type": "code",
   "execution_count": 13,
   "metadata": {
    "id": "Efxio7onR7CQ"
   },
   "outputs": [
    {
     "name": "stdout",
     "output_type": "stream",
     "text": [
      "0  1  2  3  4  5  6  7\tlabeledBow.feat  neg  pos  urls_neg.txt  urls_pos.txt\r\n"
     ]
    }
   ],
   "source": [
    "for dir in range (8):\n",
    "    os.mkdir(f'aclImdb/test/{dir}')\n",
    "!ls aclImdb/test "
   ]
  },
  {
   "cell_type": "markdown",
   "metadata": {
    "id": "qJ9hCWZjr3Lq"
   },
   "source": [
    "You can use the utility `tf.keras.utils.text_dataset_from_directory` to\n",
    "generate a labeled `tf.data.Dataset` object from a set of text files on disk filed\n",
    " into class-specific folders.\n",
    "\n",
    "Let's use it to generate the training, validation, and test datasets. The validation\n",
    "and training datasets are generated from two subsets of the `train` directory, with 20%\n",
    "of samples going to the validation dataset and 80% going to the training dataset.\n",
    "\n",
    "Having a validation dataset in addition to the test dataset is useful for tuning\n",
    "hyperparameters, such as the model architecture, for which the test dataset should not\n",
    "be used.\n",
    "\n",
    "Before putting the model out into the real world however, it should be retrained using all\n",
    "available training data (without creating a validation dataset), so its performance is maximized.\n",
    "\n",
    "When using the `validation_split` & `subset` arguments, make sure to either specify a\n",
    "random seed, or to pass `shuffle=False`, so that the validation & training splits you\n",
    "get have no overlap."
   ]
  },
  {
   "cell_type": "code",
   "execution_count": 14,
   "metadata": {
    "id": "dCY9hUqti_59"
   },
   "outputs": [],
   "source": [
    "directory = 'aclImdb/train'\n",
    " \n",
    "for root, dirs, files in os.walk(directory):\n",
    "    if root == 'aclImdb/train/neg' or root== 'aclImdb/train/pos':\n",
    "        for file_ in files:\n",
    "            if 1 <= int(file_[-5]) <= 4:\n",
    "                dir_ = int(file_[-5])-1\n",
    "            elif 7 <= int(file_[-5]) <= 9:\n",
    "                dir_ = int(file_[-5])-3\n",
    "            else:  \n",
    "                dir_ = int(file_[-6:-4])-3\n",
    "\n",
    "            os.rename(''.join([root,'/',file_]), f'aclImdb/train/{dir_}/{file_}')"
   ]
  },
  {
   "cell_type": "code",
   "execution_count": 15,
   "metadata": {
    "id": "oPluEvVQUozn"
   },
   "outputs": [],
   "source": [
    "!rm -r aclImdb/train/neg\n",
    "!rm -r aclImdb/train/pos"
   ]
  },
  {
   "cell_type": "code",
   "execution_count": 16,
   "metadata": {
    "id": "30C5Ca3kTeap"
   },
   "outputs": [
    {
     "name": "stdout",
     "output_type": "stream",
     "text": [
      "0  2  4  6  labeledBow.feat  urls_neg.txt  urls_unsup.txt\r\n",
      "1  3  5  7  unsupBow.feat    urls_pos.txt\r\n"
     ]
    }
   ],
   "source": [
    "!ls aclImdb/train "
   ]
  },
  {
   "cell_type": "code",
   "execution_count": 17,
   "metadata": {
    "id": "heJiLHekVD8_"
   },
   "outputs": [],
   "source": [
    "directory = 'aclImdb/test'\n",
    " \n",
    "for root, dirs, files in os.walk(directory):\n",
    "    if root == 'aclImdb/test/neg' or root== 'aclImdb/test/pos':\n",
    "        for file_ in files:\n",
    "            if 1 <= int(file_[-5]) <= 4:\n",
    "                dir_ = int(file_[-5])-1\n",
    "            elif 7 <= int(file_[-5]) <= 9:\n",
    "                dir_ = int(file_[-5])-3\n",
    "            else:  \n",
    "                dir_ = int(file_[-6:-4])-3\n",
    "\n",
    "            os.rename(''.join([root,'/',file_]), f'aclImdb/test/{dir_}/{file_}')\n",
    "\n"
   ]
  },
  {
   "cell_type": "code",
   "execution_count": 18,
   "metadata": {
    "id": "br6Yl1n5NIFq"
   },
   "outputs": [],
   "source": [
    "!rm -r aclImdb/test/neg\n",
    "!rm -r aclImdb/test/pos"
   ]
  },
  {
   "cell_type": "code",
   "execution_count": 19,
   "metadata": {
    "id": "PO2P4FRFVEAj"
   },
   "outputs": [
    {
     "name": "stdout",
     "output_type": "stream",
     "text": [
      "0  1  2  3  4  5  6  7\tlabeledBow.feat  urls_neg.txt  urls_pos.txt\r\n"
     ]
    }
   ],
   "source": [
    "!ls aclImdb/test"
   ]
  },
  {
   "cell_type": "code",
   "execution_count": 20,
   "metadata": {
    "colab": {
     "base_uri": "https://localhost:8080/"
    },
    "id": "KPrukP_qr3Lr",
    "outputId": "df01f9b7-d365-4d5c-f085-bcdc5d3296da"
   },
   "outputs": [
    {
     "name": "stdout",
     "output_type": "stream",
     "text": [
      "Found 25000 files belonging to 8 classes.\n",
      "Using 20000 files for training.\n",
      "Found 25000 files belonging to 8 classes.\n",
      "Using 5000 files for validation.\n",
      "Found 25000 files belonging to 8 classes.\n",
      "Number of batches in raw_train_ds: 625\n",
      "Number of batches in raw_val_ds: 157\n",
      "Number of batches in raw_test_ds: 782\n"
     ]
    }
   ],
   "source": [
    "batch_size = 32\n",
    "raw_train_ds = tf.keras.utils.text_dataset_from_directory(\n",
    "    \"aclImdb/train\",\n",
    "    batch_size=batch_size,\n",
    "    validation_split=0.2,\n",
    "    subset=\"training\",\n",
    "    seed=1337,\n",
    ")\n",
    "raw_val_ds = tf.keras.utils.text_dataset_from_directory(\n",
    "    \"aclImdb/train\",\n",
    "    batch_size=batch_size,\n",
    "    validation_split=0.2,\n",
    "    subset=\"validation\",\n",
    "    seed=1337,\n",
    ")\n",
    "raw_test_ds = tf.keras.utils.text_dataset_from_directory(\n",
    "    \"aclImdb/test\", batch_size=batch_size)\n",
    "\n",
    "print(f\"Number of batches in raw_train_ds: {raw_train_ds.cardinality()}\")\n",
    "print(f\"Number of batches in raw_val_ds: {raw_val_ds.cardinality()}\")\n",
    "print(f\"Number of batches in raw_test_ds: {raw_test_ds.cardinality()}\")"
   ]
  },
  {
   "cell_type": "code",
   "execution_count": 21,
   "metadata": {
    "colab": {
     "base_uri": "https://localhost:8080/"
    },
    "id": "L_-tCO-gE0yL",
    "outputId": "1d845308-035b-47f4-90bb-683b8eef61f7"
   },
   "outputs": [
    {
     "name": "stdout",
     "output_type": "stream",
     "text": [
      "Label 0 corresponds to 0\n",
      "Label 1 corresponds to 1\n",
      "Label 2 corresponds to 2\n",
      "Label 3 corresponds to 3\n",
      "Label 4 corresponds to 4\n",
      "Label 5 corresponds to 5\n",
      "Label 6 corresponds to 6\n",
      "Label 7 corresponds to 7\n"
     ]
    }
   ],
   "source": [
    "for i, label in enumerate(raw_train_ds.class_names):\n",
    "  print(\"Label\", i, \"corresponds to\", label)"
   ]
  },
  {
   "cell_type": "markdown",
   "metadata": {
    "id": "-zHKfpjEr3Lr"
   },
   "source": [
    "Let's preview a few samples:"
   ]
  },
  {
   "cell_type": "code",
   "execution_count": 31,
   "metadata": {
    "colab": {
     "base_uri": "https://localhost:8080/"
    },
    "id": "jqR1cFg5r3Lr",
    "outputId": "81a78506-e7cb-48ef-8f61-b92090e372f2"
   },
   "outputs": [
    {
     "name": "stdout",
     "output_type": "stream",
     "text": [
      "b'I watched it subtitled as it was in Russian, but really enjoyed it. The main character Sasha was born cursed, with a deadly weapon as an extension of his body. He lived his whole life unhappy because he was different and because anger caused him to do deadly things. <br /><br />When Sasha finally found love in a young woman named Katya everyone tried to take her away from him ending in a deadly battle. There was a fair amount of gore, but not too much for the weak stomached.<br /><br />Not for people who like the regular old Hollywood movie, but for those who enjoy independent films. Kinda got the feeling of an Asian fantasy film.'\n",
      "5\n",
      "b'I have this movie on DVD and must have watched it thirty times by now. I must really love it, right? Well, not really.<br /><br />I was a surfer earlier in my life, and I loved the sport. To this day, I am fascinated by good surfing. Riding Giants has plenty of that, and thus I am a sucker for the thing. But I definitely have some bones to pick with it. (Peralta, you listening?).<br /><br />First, the movie has too little faith in its subject matter. The cutting and editing of the waves is such that the majority of them are sort of ruined. Very, very few waves are actually shown ridden from start to finish. Peralta seems addicted to a hyper kinetic, cut-and-pace method. It gets especially bad in the middle section on the spot Mavericks in Northern California. Not a single wave is ridden start to finish. Almost the entire section on Mavericks (one third of the movie) is a jarring montage of clips with an equally jarring soundtrack. I can understand the effect Peralta was trying to achieve with Mavericks, as the place is a truly frightening mix of bone crushing waves in frigid open ocean chop, but he goes way too far. Mavericks is not just a bad acid trip. Waves are actually ridden there, even with great performances. It would have been good to see some of them. If Peralta thinks this is a grand sport (and I am sure he does), then why does he insist on messing with the subject matter so much? At times, the editing reduces the movie to the inscrutable. There is one fast clip in the section on Peahi in Hawaii, which I still cannot understand. Even if I run it on slow motion on DVD, the image is too fast to be decipherable. It must be a couple of frames in length at the max.<br /><br />Second, have the guys who made this thing ever learned about understatement? It is particularly galling to watch the narrated directors\\' version on DVD. These guys sound like two over-the-top valley girls. The same sentiment shows up in the main production. Every thing is always so goddamn \"amazing\" etc. One character in particular is just plain obnoxious -- Sam George, the editor of Surfer Magazine, who is practically peeing in his pants every time he has anything to say. He is a super drag on the movie.<br /><br />There is a tremendous amount of effort that went into this movie. I mean, just to get the old movie shots they have, and also, all of the interviews. The movie is a great story, and I think it is generally captivating entertainment. Thematically it is well laid out, with the three parts centering around Greg Noll, Jeff Clark, and Laird Hamilton respectively. There are some uses of still photography that are phenomenal. In the directors\\' narration, they say it is a new type of 3D technology, and it really works. The three principle characters shine, both in their interviews and in the water. As an athlete, Laird Hamilton is a revelation. He rises to the pinnacle of his sport in a way that I have only seen Michael Jordan do in basketball. And too, the story of his meeting his father is a gem. It really touched me.<br /><br />It is just that the movie could have been so much more. The very last part of the movie, when the credits roll, gives a hint of what it could have been. There are some beautiful panoramic shots of waves with a magnificent soundtrack. (The soundtrack in the rest of the movie is rubbish, though you may like it if you are fan of the modern, frenetic school of rock.) Anyway there\\'s my two cents...'\n",
      "7\n",
      "b'So Mary and Rhoda have aged--who hasn\\'t? I was a teen when Mary premiered, and a \"young adult\" when it left the air. Yes, it was great to see Mary and Rho together, and yes, maybe the film didn\\'t sustain the comedy of the original series, but there were enough moments that recalled the spirit of the series to make this a fitting tribute. Example: the producer who hires Mary and then dictates the idea for a new series about \"old people.\" Isn\\'t this typical of the mentality of present-day Hollywood TV and film \"bean counters?\" This may not be THE MARY TYLER MOORE SHOW at its best--but it\\'s a pretty damned good look back at one of the best shows we grew up with in the 70s.'\n",
      "4\n",
      "b'Ok, I first saw this movie like at 9:00 on Cinemax a few weeks ago and thought it would be award winning, boy was I 180d on that. This movie bit the big one. I mean, the mother of the monsters shows her true form only at the end of the movie. I\\'m going \" That\\'s it? Why doesn\\'t she show it briefly a little bit more earlier in the movie.\" The plot being the mother and son feast on the blood of young women. Wouldn\\'t it be better if they just went on, you know, a killing spree killing like a couple of young women each, then having the sheriff or a cop find out about and get into the old find a way to kill the monsters,save the young woman/women, and have 1 or 2 more people killed in the process? I think it would be a hell of a lot better that way. It also sucks because the son is the main character and he gets killed first. Why not get rid of the mother first? Plus, how does she have that strength at the end of the movie when she starts killing people? She said it herself she was too weak. What the heck was wrong with Stephen this time? I can never, ever dis the acting on any movie by any actor, after all, they try their best. If it weren\\'t for good acting, I\\'d have given this movie a 1/10. 3/10.'\n",
      "2\n",
      "b'\\'\\'Ranma \\xc2\\xbd\" is my favorite anime by Rumiko Takahashi. The woman really knows how to entertain us with a good story, that is not only a comedy, but also an action anime. The main character of the story is Ranma Saotome, a teenager boy who is also an expert in martial arts. Ranma is engaged to Akane because of an arrangement of both fathers, who are great friends and trained together during many years. <br /><br />Akane is the younger and most violent sister of the Tendo\\'s: Kasumi is the oldest and is very sweet and Nabiki is the middle and loves to win money no matter what.<br /><br />Ranma and Akane fight all the time,specially because both have a very bad temper, and when they discover that Ranma becomes a girl when splashed with cold water as well as his father becomes a panda,many new characters and situations starts to happen. They also discover the reason of the transformation: while fighting, Ranma and his father fell in a cursed river. But not only them had this kind of fate...<br /><br />If you watched \\'\\'Ranma 1/2\\'\\' and liked, I would recommend you \\'\\'Inuyasha\\'\\' and \\'\\'Maison Ikkoku\", two other good creations from Rumiko\\'s hands.'\n",
      "5\n"
     ]
    }
   ],
   "source": [
    "for comments, labels in raw_train_ds.take(1):\n",
    "    for i in range(5):\n",
    "        print(comments.numpy()[i])\n",
    "        print(labels.numpy()[i])"
   ]
  },
  {
   "cell_type": "markdown",
   "metadata": {
    "id": "hCkHi9C7r3Ls"
   },
   "source": [
    "## Prepare the data\n"
   ]
  },
  {
   "cell_type": "code",
   "execution_count": 22,
   "metadata": {
    "colab": {
     "base_uri": "https://localhost:8080/"
    },
    "id": "f9cs6jD_qZlT",
    "outputId": "a2abc6a9-2256-40eb-ed49-68c7cc8e8cb0"
   },
   "outputs": [
    {
     "name": "stderr",
     "output_type": "stream",
     "text": [
      "[nltk_data] Downloading package stopwords to /home/wsuser/nltk_data...\n",
      "[nltk_data]   Unzipping corpora/stopwords.zip.\n"
     ]
    }
   ],
   "source": [
    "stops = nltk.download('stopwords')\n",
    "stops=set(stopwords.words('english'))"
   ]
  },
  {
   "cell_type": "code",
   "execution_count": 23,
   "metadata": {
    "colab": {
     "base_uri": "https://localhost:8080/",
     "height": 284
    },
    "id": "b4iZvxefn1sa",
    "outputId": "d8dfdf18-bf42-4437-9de9-10fabf67282c"
   },
   "outputs": [
    {
     "data": {
      "text/plain": [
       "<AxesSubplot:>"
      ]
     },
     "execution_count": 23,
     "metadata": {},
     "output_type": "execute_result"
    },
    {
     "data": {
      "image/png": "[encoded data removed]",
      "text/plain": [
       "<Figure size 432x288 with 1 Axes>"
      ]
     },
     "metadata": {
      "needs_background": "light"
     },
     "output_type": "display_data"
    }
   ],
   "source": [
    "# построим график самых повторяющихся слов\n",
    "corpus=[]\n",
    "for comments, _ in raw_train_ds:\n",
    "      for x in comments.numpy():\n",
    "        for i in str(x).split():\n",
    "          corpus.append(i)\n",
    "counter=Counter(corpus)\n",
    "most_common=counter.most_common()\n",
    "x, y = [], []\n",
    "for word,count in most_common[:100]:\n",
    "    if (word not in stops) :\n",
    "        x.append(word)\n",
    "        y.append(count)\n",
    "sns.barplot(x=y,y=x)"
   ]
  },
  {
   "cell_type": "code",
   "execution_count": 24,
   "metadata": {
    "id": "VR6S9g2zzCw6"
   },
   "outputs": [],
   "source": [
    "# remove tags \n",
    "def remove_tags(text, label):\n",
    "    return tf.strings.regex_replace(text, \"<br />\", \" \"), label\n",
    "\n",
    "raw_train_ds, raw_val_ds, raw_test_ds = raw_train_ds.map(remove_tags), raw_val_ds.map(remove_tags), raw_test_ds.map(remove_tags)"
   ]
  },
  {
   "cell_type": "code",
   "execution_count": 25,
   "metadata": {
    "id": "QUCN91wtr-Nn"
   },
   "outputs": [],
   "source": [
    "#Removes Punctuations\n",
    "def remove_punctuations(text, label):\n",
    "    return tf.strings.regex_replace(text, '[^\\w\\s]', ''), label\n",
    "\n",
    "#Removes HTML syntaxes\n",
    "def remove_html(text, label):\n",
    "    return tf.strings.regex_replace(text, '<.*?>', ''), label\n",
    "\n",
    "#Removes URL data\n",
    "def remove_url(text, label):\n",
    "    return tf.strings.regex_replace(text, 'https://\\S+|www\\.\\S+', ''), label\n",
    "\n",
    "#Removes Emojis\n",
    "def remove_emoji(text, label):\n",
    "    text = tf.strings.regex_replace(text, \"[\"\n",
    "                           u\"\\U0001F600-\\U0001F64F\"  # emoticons\n",
    "                           u\"\\U0001F300-\\U0001F5FF\"  # symbols & pictographs\n",
    "                           u\"\\U0001F680-\\U0001F6FF\"  # transport & map symbols\n",
    "                           u\"\\U0001F1E0-\\U0001F1FF\"  # flags (iOS)\n",
    "                           u\"\\U00002702-\\U000027B0\"\n",
    "                           u\"\\U000024C2-\\U0001F251\"\n",
    "                           \"]+\", '')\n",
    "    return tf.strings.regex_replace(text, 'https://\\S+|www\\.\\S+', ''), label\n",
    "\n",
    "raw_train_ds, raw_val_ds, raw_test_ds = raw_train_ds.map(remove_punctuations), raw_val_ds.map(remove_punctuations), raw_test_ds.map(remove_punctuations)\n",
    "raw_train_ds, raw_val_ds, raw_test_ds = raw_train_ds.map(remove_html), raw_val_ds.map(remove_html), raw_test_ds.map(remove_html)\n",
    "raw_train_ds, raw_val_ds, raw_test_ds = raw_train_ds.map(remove_url), raw_val_ds.map(remove_url), raw_test_ds.map(remove_url)\n",
    "raw_train_ds, raw_val_ds, raw_test_ds = raw_train_ds.map(remove_emoji), raw_val_ds.map(remove_emoji), raw_test_ds.map(remove_emoji)"
   ]
  },
  {
   "cell_type": "code",
   "execution_count": 26,
   "metadata": {
    "id": "lzTgL1e9r-Qt"
   },
   "outputs": [],
   "source": [
    "def remove_abb(text, label):\n",
    "    text = tf.strings.regex_replace(text, \"he's\", \"he is\")\n",
    "    text = tf.strings.regex_replace(text, \"there's\", \"there is\")\n",
    "    text = tf.strings.regex_replace(text, \"We're\", \"We are\")\n",
    "    text = tf.strings.regex_replace(text, \"That's\", \"That is\")\n",
    "    text = tf.strings.regex_replace(text, \"won't\", \"will not\")\n",
    "    text = tf.strings.regex_replace(text, \"they're\", \"they are\")\n",
    "    text = tf.strings.regex_replace(text, \"Can't\", \"Cannot\")\n",
    "    text = tf.strings.regex_replace(text, \"wasn't\", \"was not\")\n",
    "    text = tf.strings.regex_replace(text, \"don\\x89Ûªt\", \"do not\")\n",
    "    text= tf.strings.regex_replace(text, \"aren't\", \"are not\")\n",
    "    text = tf.strings.regex_replace(text, \"isn't\", \"is not\")\n",
    "    text = tf.strings.regex_replace(text, \"What's\", \"What is\")\n",
    "    text = tf.strings.regex_replace(text, \"haven't\", \"have not\")\n",
    "    text = tf.strings.regex_replace(text, \"hasn't\", \"has not\")\n",
    "    text = tf.strings.regex_replace(text, \"There's\", \"There is\")\n",
    "    text = tf.strings.regex_replace(text, \"He's\", \"He is\")\n",
    "    text = tf.strings.regex_replace(text, \"It's\", \"It is\")\n",
    "    text = tf.strings.regex_replace(text, \"You're\", \"You are\")\n",
    "    text = tf.strings.regex_replace(text, \"I'M\", \"I am\")\n",
    "    text = tf.strings.regex_replace(text, \"shouldn't\", \"should not\")\n",
    "    text = tf.strings.regex_replace(text, \"wouldn't\", \"would not\")\n",
    "    text = tf.strings.regex_replace(text, \"i'm\", \"I am\")\n",
    "    text = tf.strings.regex_replace(text, \"I\\x89Ûªm\", \"I am\")\n",
    "    text = tf.strings.regex_replace(text, \"I'm\", \"I am\")\n",
    "    text = tf.strings.regex_replace(text, \"Isn't\", \"is not\")\n",
    "    text = tf.strings.regex_replace(text, \"Here's\", \"Here is\")\n",
    "    text = tf.strings.regex_replace(text, \"you've\", \"you have\")\n",
    "    text = tf.strings.regex_replace(text, \"you\\x89Ûªve\", \"you have\")\n",
    "    text = tf.strings.regex_replace(text, \"we're\", \"we are\")\n",
    "    text = tf.strings.regex_replace(text, \"what's\", \"what is\")\n",
    "    text = tf.strings.regex_replace(text, \"couldn't\", \"could not\")\n",
    "    text = tf.strings.regex_replace(text, \"we've\", \"we have\")\n",
    "    text = tf.strings.regex_replace(text, \"it\\x89Ûªs\", \"it is\")\n",
    "    text = tf.strings.regex_replace(text, \"doesn\\x89Ûªt\", \"does not\")\n",
    "    text = tf.strings.regex_replace(text, \"It\\x89Ûªs\", \"It is\")\n",
    "    text = tf.strings.regex_replace(text, \"Here\\x89Ûªs\", \"Here is\")\n",
    "    text = tf.strings.regex_replace(text, \"who's\", \"who is\")\n",
    "    text = tf.strings.regex_replace(text, \"I\\x89Ûªve\", \"I have\")\n",
    "    text = tf.strings.regex_replace(text, \"y'all\", \"you all\")\n",
    "    text = tf.strings.regex_replace(text, \"can\\x89Ûªt\", \"cannot\")\n",
    "    text = tf.strings.regex_replace(text, \"would've\", \"would have\")\n",
    "    text = tf.strings.regex_replace(text, \"it'll\", \"it will\")\n",
    "    text = tf.strings.regex_replace(text, \"we'll\", \"we will\")\n",
    "    text = tf.strings.regex_replace(text, \"wouldn\\x89Ûªt\", \"would not\")\n",
    "    text = tf.strings.regex_replace(text, \"We've\", \"We have\")\n",
    "    text = tf.strings.regex_replace(text, \"he'll\", \"he will\")\n",
    "    text = tf.strings.regex_replace(text, \"Y'all\", \"You all\")\n",
    "    text = tf.strings.regex_replace(text, \"Weren't\", \"Were not\")\n",
    "    text = tf.strings.regex_replace(text, \"Didn't\", \"Did not\")\n",
    "    text = tf.strings.regex_replace(text, \"they'll\", \"they will\")\n",
    "    text = tf.strings.regex_replace(text, \"they'd\", \"they would\")\n",
    "    text = tf.strings.regex_replace(text, \"DON'T\", \"DO NOT\")\n",
    "    text = tf.strings.regex_replace(text, \"That\\x89Ûªs\", \"That is\")\n",
    "    text = tf.strings.regex_replace(text, \"they've\", \"they have\")\n",
    "    text = tf.strings.regex_replace(text, \"i'd\", \"I would\")\n",
    "    text = tf.strings.regex_replace(text, \"should've\", \"should have\")\n",
    "    text = tf.strings.regex_replace(text, \"You\\x89Ûªre\", \"You are\")\n",
    "    text = tf.strings.regex_replace(text, \"where's\", \"where is\")\n",
    "    text = tf.strings.regex_replace(text, \"Don\\x89Ûªt\", \"Do not\")\n",
    "    text = tf.strings.regex_replace(text, \"we'd\", \"we would\")\n",
    "    text = tf.strings.regex_replace(text, \"i'll\", \"I will\")\n",
    "    text = tf.strings.regex_replace(text, \"weren't\", \"were not\")\n",
    "    text = tf.strings.regex_replace(text, \"They're\", \"They are\")\n",
    "    text = tf.strings.regex_replace(text, \"Can\\x89Ûªt\", \"Cannot\")\n",
    "    text = tf.strings.regex_replace(text, \"you\\x89Ûªll\", \"you will\")\n",
    "    text = tf.strings.regex_replace(text, \"I\\x89Ûªd\", \"I would\")\n",
    "    text = tf.strings.regex_replace(text, \"let's\", \"let us\")\n",
    "    text = tf.strings.regex_replace(text, \"it's\", \"it is\")\n",
    "    text = tf.strings.regex_replace(text, \"can't\", \"cannot\")\n",
    "    text = tf.strings.regex_replace(text, \"don't\", \"do not\")\n",
    "    text = tf.strings.regex_replace(text, \"you're\", \"you are\")\n",
    "    text = tf.strings.regex_replace(text, \"i've\", \"I have\")\n",
    "    text = tf.strings.regex_replace(text, \"that's\", \"that is\")\n",
    "    text = tf.strings.regex_replace(text, \"i'll\", \"I will\")\n",
    "    text = tf.strings.regex_replace(text, \"doesn't\", \"does not\")\n",
    "    text = tf.strings.regex_replace(text, \"i'd\", \"I would\")\n",
    "    text = tf.strings.regex_replace(text, \"didn't\", \"did not\")\n",
    "    text = tf.strings.regex_replace(text, \"ain't\", \"am not\")\n",
    "    text = tf.strings.regex_replace(text, \"you'll\", \"you will\")\n",
    "    text = tf.strings.regex_replace(text, \"I've\", \"I have\")\n",
    "    text = tf.strings.regex_replace(text, \"Don't\", \"do not\")\n",
    "    text = tf.strings.regex_replace(text, \"I'll\", \"I will\")\n",
    "    text = tf.strings.regex_replace(text, \"I'd\", \"I would\")\n",
    "    text = tf.strings.regex_replace(text, \"Let's\", \"Let us\")\n",
    "    text = tf.strings.regex_replace(text, \"you'd\", \"You would\")\n",
    "    text = tf.strings.regex_replace(text, \"It's\", \"It is\")\n",
    "    text = tf.strings.regex_replace(text, \"Ain't\", \"am not\")\n",
    "    text = tf.strings.regex_replace(text, \"Haven't\", \"Have not\")\n",
    "    text = tf.strings.regex_replace(text, \"Could've\", \"Could have\")\n",
    "    text = tf.strings.regex_replace(text, \"youve\", \"you have\")  \n",
    "    text = tf.strings.regex_replace(text, \"donå«t\", \"do not\") \n",
    "    return text, label  \n",
    "raw_train_ds, raw_val_ds, raw_test_ds = raw_train_ds.map(remove_abb), raw_val_ds.map(remove_abb), raw_test_ds.map(remove_abb)"
   ]
  },
  {
   "cell_type": "code",
   "execution_count": 27,
   "metadata": {
    "colab": {
     "base_uri": "https://localhost:8080/",
     "height": 284
    },
    "id": "aFA03nMAD_Dk",
    "outputId": "cb7ff95b-3fb3-41b3-90ba-a8a5272f46a9"
   },
   "outputs": [
    {
     "data": {
      "text/plain": [
       "<AxesSubplot:>"
      ]
     },
     "execution_count": 27,
     "metadata": {},
     "output_type": "execute_result"
    },
    {
     "data": {
      "image/png": "[encoded data removed]",
      "text/plain": [
       "<Figure size 432x288 with 1 Axes>"
      ]
     },
     "metadata": {
      "needs_background": "light"
     },
     "output_type": "display_data"
    }
   ],
   "source": [
    "# повторно построим график самых повторяющихся слов\n",
    "corpus=[]\n",
    "for comments, _ in raw_train_ds:\n",
    "      for x in comments.numpy():\n",
    "        for i in str(x).split():\n",
    "          corpus.append(i)\n",
    "counter=Counter(corpus)\n",
    "most_common=counter.most_common()\n",
    "x, y = [], []\n",
    "for word,count in most_common[:100]:\n",
    "    if (word not in stops) :\n",
    "        x.append(word)\n",
    "        y.append(count)\n",
    "sns.barplot(x=y,y=x)"
   ]
  },
  {
   "cell_type": "code",
   "execution_count": 32,
   "metadata": {
    "id": "bVbJSo-sr3Ls"
   },
   "outputs": [],
   "source": [
    "# Having looked at our data above, we see that the raw text contains HTML break\n",
    "# tags of the form '<br />'. These tags will not be removed by the default\n",
    "# standardizer (which doesn't strip HTML). Because of this, we will need to\n",
    "# create a custom standardization function.\n",
    "def custom_standardization(input_data):\n",
    "    return tf.strings.lower(input_data)\n",
    "\n",
    "\n",
    "# Model constants.\n",
    "max_features = 20000\n",
    "embedding_dim = 128\n",
    "sequence_length = 500\n",
    "\n",
    "# Now that we have our custom standardization, we can instantiate our text\n",
    "# vectorization layer. We are using this layer to normalize, split, and map\n",
    "# strings to integers, so we set our 'output_mode' to 'int'.\n",
    "# Note that we're using the default split function,\n",
    "# and the custom standardization defined above.\n",
    "# We also set an explicit maximum sequence length, since the CNNs later in our\n",
    "# model won't support ragged sequences.\n",
    "vectorize_layer = TextVectorization(\n",
    "    standardize = custom_standardization,\n",
    "    max_tokens=max_features,\n",
    "    output_mode=\"int\",\n",
    "    output_sequence_length=sequence_length,\n",
    ")\n",
    "\n",
    "# Now that the vocab layer has been created, call `adapt` on a text-only\n",
    "# dataset to create the vocabulary. You don't have to batch, but for very large\n",
    "# datasets this means you're not keeping spare copies of the dataset in memory.\n",
    "\n",
    "# Let's make a text-only dataset (no labels):\n",
    "text_ds = raw_train_ds.map(lambda x, y: x)\n",
    "# Let's call `adapt`:\n",
    "vectorize_layer.adapt(text_ds)"
   ]
  },
  {
   "cell_type": "markdown",
   "metadata": {
    "id": "63NUxMv_r3Ls"
   },
   "source": [
    "## Two options to vectorize the data\n",
    "\n",
    "There are 2 ways we can use our text vectorization layer:\n",
    "\n",
    "**Option 1: Make it part of the model**, so as to obtain a model that processes raw\n",
    " strings, like this:"
   ]
  },
  {
   "cell_type": "markdown",
   "metadata": {
    "id": "_btvQZyyr3Ls"
   },
   "source": [
    "```python\n",
    "text_input = tf.keras.Input(shape=(1,), dtype=tf.string, name='text')\n",
    "x = vectorize_layer(text_input)\n",
    "x = layers.Embedding(max_features + 1, embedding_dim)(x)\n",
    "...\n",
    "```\n",
    "\n",
    "**Option 2: Apply it to the text dataset** to obtain a dataset of word indices, then\n",
    " feed it into a model that expects integer sequences as inputs.\n",
    "\n",
    "An important difference between the two is that option 2 enables you to do\n",
    "**asynchronous CPU processing and buffering** of your data when training on GPU.\n",
    "So if you're training the model on GPU, you probably want to go with this option to get\n",
    " the best performance. This is what we will do below.\n",
    "\n",
    "If we were to export our model to production, we'd ship a model that accepts raw\n",
    "strings as input, like in the code snippet for option 1 above. This can be done after\n",
    " training. We do this in the last section.\n"
   ]
  },
  {
   "cell_type": "code",
   "execution_count": 33,
   "metadata": {
    "id": "dA1UOemmr3Lt"
   },
   "outputs": [],
   "source": [
    "def vectorize_text(text, label):\n",
    "    text = tf.expand_dims(text, -1)\n",
    "    return vectorize_layer(text), label\n",
    "\n",
    "\n",
    "# Vectorize the data.\n",
    "train_ds = raw_train_ds.map(vectorize_text)\n",
    "val_ds = raw_val_ds.map(vectorize_text)\n",
    "test_ds = raw_test_ds.map(vectorize_text)\n",
    "\n",
    "# Do async prefetching / buffering of the data for best performance on GPU.\n",
    "train_ds = train_ds.cache().prefetch(buffer_size=10)\n",
    "val_ds = val_ds.cache().prefetch(buffer_size=10)\n",
    "test_ds = test_ds.cache().prefetch(buffer_size=10)"
   ]
  },
  {
   "cell_type": "markdown",
   "metadata": {
    "id": "MMQZ7dLkr3Lt"
   },
   "source": [
    "## Build a model\n",
    "\n",
    "We choose a simple 1D convnet starting with an `Embedding` layer."
   ]
  },
  {
   "cell_type": "code",
   "execution_count": 39,
   "metadata": {
    "id": "uPIY3FhpMjyt"
   },
   "outputs": [],
   "source": [
    "# A integer input for vocab indices.\n",
    "inputs = tf.keras.Input(shape=(None,), dtype=\"int64\")\n",
    "\n",
    "# Next, we add a layer to map those vocab indices into a space of dimensionality\n",
    "# 'embedding_dim'.\n",
    "x = layers.Embedding(max_features, embedding_dim)(inputs)\n",
    "x = layers.Dropout(0.5)(x)\n",
    "\n",
    "# Conv1D + global max pooling\n",
    "x = layers.Conv1D(128, 7, padding=\"valid\", activation=\"relu\", strides=3)(x)\n",
    "x = layers.Conv1D(128, 7, padding=\"valid\", activation=\"relu\", strides=3)(x)\n",
    "x = layers.GlobalMaxPooling1D()(x)\n",
    "\n",
    "# We add a vanilla hidden layer:\n",
    "x = layers.Dense(128, activation=\"relu\")(x)\n",
    "x = layers.Dropout(0.5)(x)\n",
    "\n",
    "# We project onto a single unit output layer, and squash it with a sigmoid:\n",
    "predictions = tf.keras.layers.Dense(8, activation=\"softmax\", name=\"predictions\")(x)\n",
    "\n",
    "model = tf.keras.Model(inputs, predictions)\n",
    "\n",
    "# Compile the model with binary crossentropy loss and an adam optimizer.\n",
    "model.compile(loss=\"sparse_categorical_crossentropy\", optimizer=\"adam\", metrics=[\"accuracy\"])"
   ]
  },
  {
   "cell_type": "code",
   "execution_count": null,
   "metadata": {
    "id": "90KgF_aar3Lt"
   },
   "outputs": [],
   "source": [
    "# A integer input for vocab indices.\n",
    "inputs = tf.keras.Input(shape=(None,), dtype=\"int64\")\n",
    "\n",
    "# Next, we add a layer to map those vocab indices into a space of dimensionality\n",
    "# 'embedding_dim'.\n",
    "x = layers.Embedding(max_features, embedding_dim)(inputs)\n",
    "#x = layers.Dropout(0.5)(x)\n",
    "\n",
    "# Conv1D + global max pooling\n",
    "# x = layers.Conv1D(128, 7, padding=\"valid\", activation=\"relu\", strides=3)(x)\n",
    "# x = layers.Conv1D(128, 7, padding=\"valid\", activation=\"relu\", strides=3)(x)\n",
    "x = layers.LSTM(128, return_sequences=True, return_state=False)(x)\n",
    "x = layers.LSTM(256, return_sequences=True, return_state=False)(x)\n",
    "x = layers.GlobalMaxPooling1D()(x)\n",
    "\n",
    "# We add a vanilla hidden layer:\n",
    "x = layers.Dense(128, activation=\"relu\")(x)\n",
    "#x = layers.Dropout(0.5)(x)\n",
    "\n",
    "# We project onto a single unit output layer, and squash it with a sigmoid:\n",
    "predictions = tf.keras.layers.Dense(8, activation=\"softmax\", name=\"predictions\")(x)\n",
    "\n",
    "model = tf.keras.Model(inputs, predictions)\n",
    "\n",
    "# Compile the model with binary crossentropy loss and an adam optimizer.\n",
    "model.compile(loss='sparse_categorical_crossentropy', optimizer=\"adam\", metrics=[\"accuracy\"])"
   ]
  },
  {
   "cell_type": "code",
   "execution_count": null,
   "metadata": {
    "id": "TRswSwsh6qui"
   },
   "outputs": [],
   "source": [
    "# A integer input for vocab indices.\n",
    "inputs = tf.keras.Input(shape=(None,), dtype=\"int64\")\n",
    "\n",
    "# Next, we add a layer to map those vocab indices into a space of dimensionality\n",
    "# 'embedding_dim'.\n",
    "x = layers.Embedding(max_features, embedding_dim)(inputs)\n",
    "x = layers.Conv1D(filters = 32, kernel_size = 3, padding = 'same', activation = 'relu')(x)\n",
    "x = layers.AveragePooling1D(pool_size = 2)(x)\n",
    "x = layers.Bidirectional(LSTM(200, dropout = 0.5))(x)\n",
    "# We project onto a single unit output layer, and squash it with a sigmoid:\n",
    "predictions = tf.keras.layers.Dense(8, activation=\"softmax\", name=\"predictions\")(x)\n",
    "\n",
    "model = tf.keras.Model(inputs, predictions)\n",
    "\n",
    "# Compile the model with binary crossentropy loss and an adam optimizer.\n",
    "model.compile(loss='sparse_categorical_crossentropy', optimizer=\"adam\", metrics=[\"accuracy\"])"
   ]
  },
  {
   "cell_type": "code",
   "execution_count": 34,
   "metadata": {
    "id": "8Scntt66AX-Z"
   },
   "outputs": [],
   "source": [
    "inputs = tf.keras.Input(shape=(None,), dtype=\"int64\")\n",
    "###x = layers.Embedding(129892, 32)(inputs)\n",
    "x = layers.Embedding(max_features, embedding_dim)(inputs)\n",
    "x = layers.Bidirectional(LSTM(75, dropout = 0.1))(x)\n",
    "predictions = tf.keras.layers.Dense(8, activation=\"softmax\", name=\"predictions\")(x)\n",
    "\n",
    "model = tf.keras.Model(inputs, predictions)\n",
    "\n",
    "# Compile the model with binary crossentropy loss and an adam optimizer.\n",
    "model.compile(loss='sparse_categorical_crossentropy', optimizer=\"adam\", metrics=[\"accuracy\"])"
   ]
  },
  {
   "cell_type": "code",
   "execution_count": null,
   "metadata": {
    "id": "pscDGuxJ8xSm"
   },
   "outputs": [],
   "source": [
    "\n"
   ]
  },
  {
   "cell_type": "markdown",
   "metadata": {
    "id": "03q5qjCshaTL"
   },
   "source": [
    "inputs = tf.keras.Input(shape=(None,), dtype=\"int64\")\n",
    "\n",
    "x = layers.Embedding(max_features, embedding_dim)(inputs)\n",
    "x = layers.Bidirectional(layers.LSTM(64, return_sequences=True))(x)\n",
    "x = layers.Bidirectional(layers.LSTM(64))(x)\n",
    "predictions = tf.keras.layers.Dense(10, activation=\"softmax\", name=\"predictions\")(x)\n",
    "\n",
    "model = tf.keras.Model(inputs, predictions)\n",
    "\n",
    "# Compile the model with binary crossentropy loss and an adam optimizer.\n",
    "model.compile(loss='sparse_categorical_crossentropy', optimizer=\"adam\", metrics=[\"accuracy\"])"
   ]
  },
  {
   "cell_type": "markdown",
   "metadata": {
    "id": "IZE2mZPer3Lt"
   },
   "source": [
    "## Train the model"
   ]
  },
  {
   "cell_type": "code",
   "execution_count": 35,
   "metadata": {
    "colab": {
     "base_uri": "https://localhost:8080/"
    },
    "id": "xCF705t4r3Lt",
    "outputId": "f2874ea0-ead7-4f89-afe3-c3caffc9a0c0"
   },
   "outputs": [
    {
     "name": "stdout",
     "output_type": "stream",
     "text": [
      "Epoch 1/10\n",
      "625/625 [==============================] - 210s 332ms/step - loss: 1.8258 - accuracy: 0.3106 - val_loss: 1.6613 - val_accuracy: 0.3642\n",
      "Epoch 2/10\n",
      "625/625 [==============================] - 210s 336ms/step - loss: 1.5305 - accuracy: 0.4183 - val_loss: 1.6361 - val_accuracy: 0.3694\n",
      "Epoch 3/10\n",
      "625/625 [==============================] - 206s 330ms/step - loss: 1.3959 - accuracy: 0.4693 - val_loss: 1.6953 - val_accuracy: 0.3492\n",
      "Epoch 4/10\n",
      "625/625 [==============================] - 207s 331ms/step - loss: 1.2084 - accuracy: 0.5458 - val_loss: 1.7454 - val_accuracy: 0.3520\n",
      "Epoch 5/10\n",
      "625/625 [==============================] - 207s 332ms/step - loss: 1.0062 - accuracy: 0.6314 - val_loss: 1.9028 - val_accuracy: 0.3354\n",
      "Epoch 6/10\n",
      "625/625 [==============================] - 206s 330ms/step - loss: 0.8878 - accuracy: 0.6848 - val_loss: 2.0475 - val_accuracy: 0.3472\n",
      "Epoch 7/10\n",
      "625/625 [==============================] - 198s 316ms/step - loss: 0.7143 - accuracy: 0.7528 - val_loss: 2.2182 - val_accuracy: 0.3386\n",
      "Epoch 8/10\n",
      "625/625 [==============================] - 206s 330ms/step - loss: 0.5664 - accuracy: 0.8059 - val_loss: 2.4592 - val_accuracy: 0.3370\n",
      "Epoch 9/10\n",
      "625/625 [==============================] - 203s 325ms/step - loss: 0.4650 - accuracy: 0.8468 - val_loss: 2.6945 - val_accuracy: 0.3286\n",
      "Epoch 10/10\n",
      "625/625 [==============================] - 210s 335ms/step - loss: 0.3522 - accuracy: 0.8853 - val_loss: 2.8417 - val_accuracy: 0.3218\n"
     ]
    },
    {
     "data": {
      "text/plain": [
       "<keras.callbacks.History at 0x7fe2df272d30>"
      ]
     },
     "execution_count": 35,
     "metadata": {},
     "output_type": "execute_result"
    }
   ],
   "source": [
    "epochs = 10\n",
    "\n",
    "# Fit the model using the train and test datasets.\n",
    "model.fit(train_ds, validation_data=val_ds, epochs=epochs)"
   ]
  },
  {
   "cell_type": "markdown",
   "metadata": {
    "id": "BRis13fMr3Lu"
   },
   "source": [
    "## Evaluate the model on the test set"
   ]
  },
  {
   "cell_type": "code",
   "execution_count": 36,
   "metadata": {
    "colab": {
     "base_uri": "https://localhost:8080/"
    },
    "id": "LzN-q4Jhr3Lu",
    "outputId": "bce6facf-f830-45d0-f3ad-285bbf0b7455"
   },
   "outputs": [
    {
     "name": "stdout",
     "output_type": "stream",
     "text": [
      "782/782 [==============================] - 48s 61ms/step - loss: 2.8953 - accuracy: 0.3085\n"
     ]
    },
    {
     "data": {
      "text/plain": [
       "[2.895310878753662, 0.30847999453544617]"
      ]
     },
     "execution_count": 36,
     "metadata": {},
     "output_type": "execute_result"
    }
   ],
   "source": [
    "model.evaluate(test_ds)"
   ]
  },
  {
   "cell_type": "code",
   "execution_count": 56,
   "metadata": {},
   "outputs": [
    {
     "name": "stdout",
     "output_type": "stream",
     "text": [
      "Saved model to disk\n"
     ]
    }
   ],
   "source": [
    "model_json = model.to_json()\n",
    "with open(\"model.json\", \"w\") as json_file:\n",
    "    json_file.write(model_json)\n",
    "# serialize weights to HDF5\n",
    "model.save_weights(\"model.h5\")\n",
    "print(\"Saved model to disk\")"
   ]
  },
  {
   "cell_type": "code",
   "execution_count": 39,
   "metadata": {},
   "outputs": [
    {
     "name": "stdout",
     "output_type": "stream",
     "text": [
      "model.json\r\n"
     ]
    }
   ],
   "source": [
    "!tar -zcvf keras_model.tgz model.json"
   ]
  },
  {
   "cell_type": "markdown",
   "metadata": {
    "id": "3_OjCFror3Lu"
   },
   "source": [
    "## Make an end-to-end model\n",
    "\n",
    "If you want to obtain a model capable of processing raw strings, you can simply\n",
    "create a new model (using the weights we just trained):"
   ]
  },
  {
   "cell_type": "code",
   "execution_count": null,
   "metadata": {
    "id": "gZI5P-bLr3Lu"
   },
   "outputs": [],
   "source": [
    "# A string input\n",
    "inputs = tf.keras.Input(shape=(1,), dtype=\"string\")\n",
    "# Turn strings into vocab indices\n",
    "indices = vectorize_layer(inputs)\n",
    "# Turn vocab indices into predictions\n",
    "outputs = model(indices)\n",
    "\n",
    "# Our end to end model\n",
    "end_to_end_model = tf.keras.Model(inputs, outputs)\n",
    "end_to_end_model.compile(\n",
    "    loss=\"binary_crossentropy\", optimizer=\"adam\", metrics=[\"accuracy\"]\n",
    ")\n",
    "\n",
    "# Test it with `raw_test_ds`, which yields raw strings\n",
    "end_to_end_model.evaluate(raw_test_ds)"
   ]
  },
  {
   "cell_type": "markdown",
   "metadata": {
    "id": "OgVP4d-WXMLn"
   },
   "source": [
    "## BERT"
   ]
  },
  {
   "cell_type": "code",
   "execution_count": 43,
   "metadata": {
    "colab": {
     "base_uri": "https://localhost:8080/"
    },
    "id": "uMj3URH3XM2Y",
    "outputId": "3415f286-1cf9-4af5-f59c-99c16925f472"
   },
   "outputs": [],
   "source": [
    "!pip install -q -U \"tensorflow-text==2.11.*\""
   ]
  },
  {
   "cell_type": "code",
   "execution_count": 44,
   "metadata": {
    "colab": {
     "base_uri": "https://localhost:8080/"
    },
    "id": "8_WvyD83XQri",
    "outputId": "a6779eef-abbd-43da-a6a7-2908a953b64d"
   },
   "outputs": [],
   "source": [
    "!pip install -q tf-models-official==2.11.0"
   ]
  },
  {
   "cell_type": "code",
   "execution_count": 53,
   "metadata": {},
   "outputs": [
    {
     "name": "stdout",
     "output_type": "stream",
     "text": [
      "Requirement already satisfied: tensorflow_hub in /opt/conda/envs/Python-3.9/lib/python3.9/site-packages (0.12.0)\r\n",
      "Requirement already satisfied: protobuf>=3.8.0 in /opt/conda/envs/Python-3.9/lib/python3.9/site-packages (from tensorflow_hub) (3.19.6)\r\n",
      "Requirement already satisfied: numpy>=1.12.0 in /opt/conda/envs/Python-3.9/lib/python3.9/site-packages (from tensorflow_hub) (1.20.3)\r\n"
     ]
    }
   ],
   "source": [
    "!pip install tensorflow_hub"
   ]
  },
  {
   "cell_type": "code",
   "execution_count": null,
   "metadata": {
    "id": "nM15c8kKXQvN"
   },
   "outputs": [],
   "source": [
    "import os\n",
    "import shutil\n",
    "\n",
    "import tensorflow as tf\n",
    "import tensorflow_hub as hub\n",
    "import tensorflow_text as text\n",
    "from official.nlp import optimization  \n",
    "\n",
    "import matplotlib.pyplot as plt\n",
    "\n",
    "tf.get_logger().setLevel('ERROR')"
   ]
  },
  {
   "cell_type": "code",
   "execution_count": null,
   "metadata": {
    "id": "ET6m596xXQyl"
   },
   "outputs": [],
   "source": [
    "bert_model_name = 'talking-heads_base'\n",
    "tfhub_handle_encoder = 'https://tfhub.dev/tensorflow/talkheads_ggelu_bert_en_base/1'\n",
    "tfhub_handle_preprocess = 'https://tfhub.dev/tensorflow/bert_en_uncased_preprocess/3'"
   ]
  },
  {
   "cell_type": "code",
   "execution_count": null,
   "metadata": {
    "id": "KgDx6QPdXQ18"
   },
   "outputs": [],
   "source": [
    "bert_preprocess_model = hub.KerasLayer(tfhub_handle_preprocess)"
   ]
  },
  {
   "cell_type": "code",
   "execution_count": null,
   "metadata": {
    "colab": {
     "base_uri": "https://localhost:8080/"
    },
    "id": "Dx2eNHqxXQ5K",
    "outputId": "bcc704e5-b42f-4bbb-8374-498e3f86bce4"
   },
   "outputs": [],
   "source": [
    "text_test = ['this is such an amazing movie!']\n",
    "text_preprocessed = bert_preprocess_model(text_test)\n",
    "\n",
    "print(f'Keys       : {list(text_preprocessed.keys())}')\n",
    "print(f'Shape      : {text_preprocessed[\"input_word_ids\"].shape}')\n",
    "print(f'Word Ids   : {text_preprocessed[\"input_word_ids\"][0, :12]}')\n",
    "print(f'Input Mask : {text_preprocessed[\"input_mask\"][0, :12]}')\n",
    "print(f'Type Ids   : {text_preprocessed[\"input_type_ids\"][0, :12]}')"
   ]
  },
  {
   "cell_type": "code",
   "execution_count": null,
   "metadata": {
    "id": "5ksruaNaXQ8z"
   },
   "outputs": [],
   "source": [
    "bert_model = hub.KerasLayer(tfhub_handle_encoder)"
   ]
  },
  {
   "cell_type": "code",
   "execution_count": null,
   "metadata": {
    "colab": {
     "base_uri": "https://localhost:8080/"
    },
    "id": "nDUhhbuYX6e4",
    "outputId": "3eb6b50e-6d0e-46c1-cca1-387f4e4c7237"
   },
   "outputs": [],
   "source": [
    "bert_results = bert_model(text_preprocessed)\n",
    "\n",
    "print(f'Loaded BERT: {tfhub_handle_encoder}')\n",
    "print(f'Pooled Outputs Shape:{bert_results[\"pooled_output\"].shape}')\n",
    "print(f'Pooled Outputs Values:{bert_results[\"pooled_output\"][0, :12]}')\n",
    "print(f'Sequence Outputs Shape:{bert_results[\"sequence_output\"].shape}')\n",
    "print(f'Sequence Outputs Values:{bert_results[\"sequence_output\"][0, :12]}')"
   ]
  },
  {
   "cell_type": "code",
   "execution_count": null,
   "metadata": {
    "id": "P7H93TY3X6im"
   },
   "outputs": [],
   "source": [
    "def build_classifier_model():\n",
    "    text_input = tf.keras.layers.Input(shape=(), dtype=tf.string, name='text')\n",
    "    preprocessing_layer = hub.KerasLayer(tfhub_handle_preprocess, name='preprocessing')\n",
    "    encoder_inputs = preprocessing_layer(text_input)\n",
    "\n",
    "    encoder = hub.KerasLayer(tfhub_handle_encoder, trainable=True, name='BERT_encoder')\n",
    "    outputs = encoder(encoder_inputs)\n",
    "    net = outputs['pooled_output']\n",
    "    net = tf.keras.layers.Dropout(0.1)(net)\n",
    "    net = tf.keras.layers.Dense(8, activation=\"softmax\", name='classifier')(net)\n",
    "\n",
    "    return tf.keras.Model(text_input, net)"
   ]
  },
  {
   "cell_type": "code",
   "execution_count": null,
   "metadata": {
    "colab": {
     "base_uri": "https://localhost:8080/"
    },
    "id": "cBVha44lX6nB",
    "outputId": "c9239e0a-5395-4780-b270-5e44c033eaf6"
   },
   "outputs": [],
   "source": [
    "bert_model = build_classifier_model()\n",
    "bert_raw_result = bert_model(tf.constant(text_test))\n",
    "print(bert_raw_result)"
   ]
  },
  {
   "cell_type": "code",
   "execution_count": null,
   "metadata": {
    "colab": {
     "base_uri": "https://localhost:8080/",
     "height": 466
    },
    "id": "3xva-hUtX6o4",
    "outputId": "e68974ce-e15c-4fc9-bf66-e178eddbfbb8"
   },
   "outputs": [],
   "source": [
    "tf.keras.utils.plot_model(bert_model)"
   ]
  },
  {
   "cell_type": "code",
   "execution_count": null,
   "metadata": {
    "id": "tNkpR3_4X6rv"
   },
   "outputs": [],
   "source": [
    "loss = tf.keras.losses.SparseCategoricalCrossentropy()\n",
    "metrics = tf.metrics.Accuracy()"
   ]
  },
  {
   "cell_type": "code",
   "execution_count": null,
   "metadata": {
    "id": "8Z0aE37IX6v6"
   },
   "outputs": [],
   "source": [
    "epochs = 5\n",
    "steps_per_epoch = tf.data.experimental.cardinality(train_ds).numpy()\n",
    "num_train_steps = steps_per_epoch * epochs\n",
    "num_warmup_steps = int(0.1*num_train_steps)\n",
    "\n",
    "init_lr = 3e-5\n",
    "optimizer = optimization.create_optimizer(init_lr=init_lr,\n",
    "                                          num_train_steps=num_train_steps,\n",
    "                                          num_warmup_steps=num_warmup_steps,\n",
    "                                          optimizer_type='adamw')"
   ]
  },
  {
   "cell_type": "code",
   "execution_count": null,
   "metadata": {
    "id": "LzCIS1uPX6z1"
   },
   "outputs": [],
   "source": [
    "bert_model.compile(optimizer=optimizer,\n",
    "                         loss='sparse_categorical_crossentropy',\n",
    "                         metrics=[\"accuracy\"])"
   ]
  },
  {
   "cell_type": "code",
   "execution_count": null,
   "metadata": {
    "id": "Gx_kpzKvwZqk"
   },
   "outputs": [],
   "source": [
    "# remove tags \n",
    "def remove_tags(text, label):\n",
    "    return tf.strings.regex_replace(text, \"<br />\", \" \"), label\n",
    "\n",
    "\n",
    "raw_train_ds = raw_train_ds.map(remove_tags)\n",
    "raw_val_ds = raw_val_ds.map(remove_tags)\n",
    "raw_test_ds = raw_test_ds.map(remove_tags)\n",
    "\n",
    "raw_train_ds = raw_train_ds.cache().prefetch(buffer_size=10)\n",
    "raw_val_ds = raw_val_ds.cache().prefetch(buffer_size=10)\n",
    "raw_test_ds = raw_test_ds.cache().prefetch(buffer_size=10)"
   ]
  },
  {
   "cell_type": "code",
   "execution_count": null,
   "metadata": {
    "id": "QAGE9md0waI0"
   },
   "outputs": [],
   "source": []
  },
  {
   "cell_type": "code",
   "execution_count": null,
   "metadata": {
    "colab": {
     "base_uri": "https://localhost:8080/"
    },
    "id": "46-F6ReRXRAa",
    "outputId": "fbaa9526-fab6-42f7-fc57-963d2dfe4aa2"
   },
   "outputs": [],
   "source": [
    "history = bert_model.fit(raw_train_ds,\n",
    "                               validation_data=raw_val_ds,\n",
    "                               epochs=epochs)"
   ]
  },
  {
   "cell_type": "code",
   "execution_count": null,
   "metadata": {
    "colab": {
     "base_uri": "https://localhost:8080/"
    },
    "id": "yz3Y9TM_e_CE",
    "outputId": "d4433098-7451-4577-8977-d336967da2a4"
   },
   "outputs": [
    {
     "name": "stdout",
     "output_type": "stream",
     "text": [
      "782/782 [==============================] - 101s 128ms/step - loss: 1.6138 - accuracy: 0.3978\n",
      "Loss: 1.6138099431991577\n",
      "Accuracy: 0.3978399932384491\n"
     ]
    }
   ],
   "source": [
    "loss, accuracy = classifier_model.evaluate(raw_test_ds)\n",
    "\n",
    "print(f'Loss: {loss}')\n",
    "print(f'Accuracy: {accuracy}')"
   ]
  }
 ],
 "metadata": {
  "accelerator": "GPU",
  "colab": {
   "provenance": [],
   "toc_visible": true
  },
  "kernelspec": {
   "display_name": "Python 3.9",
   "language": "python",
   "name": "python3"
  },
  "language_info": {
   "codemirror_mode": {
    "name": "ipython",
    "version": 3
   },
   "file_extension": ".py",
   "mimetype": "text/x-python",
   "name": "python",
   "nbconvert_exporter": "python",
   "pygments_lexer": "ipython3",
   "version": "3.9.13"
  }
 },
 "nbformat": 4,
 "nbformat_minor": 1
}
